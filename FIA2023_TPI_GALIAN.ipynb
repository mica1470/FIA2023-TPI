{
  "nbformat": 4,
  "nbformat_minor": 0,
  "metadata": {
    "colab": {
      "provenance": [],
      "authorship_tag": "ABX9TyPPHLMPKsf4XROeuT5AOKF8",
      "include_colab_link": true
    },
    "kernelspec": {
      "name": "ir",
      "display_name": "R"
    },
    "language_info": {
      "name": "R"
    }
  },
  "cells": [
    {
      "cell_type": "markdown",
      "metadata": {
        "id": "view-in-github",
        "colab_type": "text"
      },
      "source": [
        "<a href=\"https://colab.research.google.com/github/mica1470/FIA2023-TPI/blob/Colab/FIA2023_TPI_GALIAN.ipynb\" target=\"_parent\"><img src=\"https://colab.research.google.com/assets/colab-badge.svg\" alt=\"Open In Colab\"/></a>"
      ]
    },
    {
      "cell_type": "markdown",
      "source": [
        "# 1. Crear un repositorio llamado FIA2023-TPI\n",
        "# 2. Crear un notebook en Google Colab y guardarlo como FIA2023-TPI\n",
        "\n",
        "# [GITHUB](https://github.com/mica1470/FIA2023-TPI.git)"
      ],
      "metadata": {
        "id": "Kj5dAlTblI8b"
      }
    },
    {
      "cell_type": "code",
      "execution_count": null,
      "metadata": {
        "id": "u6_84yFnOhKH",
        "colab": {
          "base_uri": "https://localhost:8080/"
        },
        "outputId": "551f0a50-ebfb-4505-d5d6-0c5fe0a7b6fb"
      },
      "outputs": [
        {
          "output_type": "stream",
          "name": "stderr",
          "text": [
            "Installing package into ‘/usr/local/lib/R/site-library’\n",
            "(as ‘lib’ is unspecified)\n",
            "\n"
          ]
        }
      ],
      "source": [
        "# Cargar los archivos princess.csv y wine.csv en dos dataframes de R y explorarlos.\n",
        "#Vamos a usar una libreria para leerlos de facil manera\n",
        "install.packages(\"readr\")"
      ]
    },
    {
      "cell_type": "code",
      "source": [
        "# Cargar la libreria readr\n",
        "library(readr)\n",
        "\n",
        "# Cargar el archivo princess.csv en un dataframe llamado princess_df\n",
        "princess_df <- read.csv(\"/content/princess.csv\")\n",
        "\n",
        "# Cargar el archivo wine.csv en un dataframe llamado wine_df\n",
        "wine_df <- read.csv(\"/content/wine.csv\")"
      ],
      "metadata": {
        "id": "KU1M7ll6O0En"
      },
      "execution_count": null,
      "outputs": []
    },
    {
      "cell_type": "markdown",
      "source": [
        "\n",
        "# 3. **Exploramos los archivos**\n",
        "\n"
      ],
      "metadata": {
        "id": "b2mH3_zIgR-M"
      }
    },
    {
      "cell_type": "markdown",
      "source": [
        "*Dataframe* **Princess**"
      ],
      "metadata": {
        "id": "0ffqQCeMgzNt"
      }
    },
    {
      "cell_type": "code",
      "source": [
        "head(princess_df) # muestra las primeras filas del dataset, si queremos ver las últimas filas usamos tail()"
      ],
      "metadata": {
        "id": "mcdmu5vsO0I2",
        "colab": {
          "base_uri": "https://localhost:8080/"
        },
        "outputId": "bc06d05a-3ead-4cfd-9871-976f1f5b502d"
      },
      "execution_count": null,
      "outputs": [
        {
          "output_type": "display_data",
          "data": {
            "text/html": [
              "<table class=\"dataframe\">\n",
              "<caption>A data.frame: 6 × 14</caption>\n",
              "<thead>\n",
              "\t<tr><th></th><th scope=col>Phoenix.Feather</th><th scope=col>Unicorn.Horn</th><th scope=col>Dragon.s.Blood</th><th scope=col>Mermaid.Tears</th><th scope=col>Fairy.Dust</th><th scope=col>Goblin.Toes</th><th scope=col>Witch.s.Brew</th><th scope=col>Griffin.Claw</th><th scope=col>Troll.Hair</th><th scope=col>Kraken.Ink</th><th scope=col>Minotaur.Horn</th><th scope=col>Basilisk.Scale</th><th scope=col>Chimera.Fang</th><th scope=col>Cured</th></tr>\n",
              "\t<tr><th></th><th scope=col>&lt;dbl&gt;</th><th scope=col>&lt;dbl&gt;</th><th scope=col>&lt;dbl&gt;</th><th scope=col>&lt;dbl&gt;</th><th scope=col>&lt;dbl&gt;</th><th scope=col>&lt;dbl&gt;</th><th scope=col>&lt;dbl&gt;</th><th scope=col>&lt;dbl&gt;</th><th scope=col>&lt;dbl&gt;</th><th scope=col>&lt;dbl&gt;</th><th scope=col>&lt;dbl&gt;</th><th scope=col>&lt;dbl&gt;</th><th scope=col>&lt;dbl&gt;</th><th scope=col>&lt;int&gt;</th></tr>\n",
              "</thead>\n",
              "<tbody>\n",
              "\t<tr><th scope=row>1</th><td> 2.4</td><td>18.7</td><td>18.4</td><td>27.9</td><td> 7.9</td><td> 9.6</td><td>18.3</td><td>13.2</td><td> 2.5</td><td>26.0</td><td>10.5</td><td>26.2</td><td>12.5</td><td>0</td></tr>\n",
              "\t<tr><th scope=row>2</th><td> 2.1</td><td> 6.0</td><td>15.0</td><td>13.3</td><td>15.6</td><td>13.1</td><td>11.0</td><td> 5.0</td><td> 7.2</td><td>26.0</td><td> 1.5</td><td>13.3</td><td> 6.2</td><td>0</td></tr>\n",
              "\t<tr><th scope=row>3</th><td>17.2</td><td>13.9</td><td>23.8</td><td> 6.8</td><td>10.7</td><td>15.8</td><td>19.4</td><td> 2.7</td><td>15.4</td><td>21.2</td><td>11.1</td><td>16.6</td><td>11.4</td><td>1</td></tr>\n",
              "\t<tr><th scope=row>4</th><td> 8.4</td><td> 9.7</td><td> 6.8</td><td>26.9</td><td> 4.6</td><td>29.1</td><td>14.6</td><td>19.7</td><td>18.0</td><td>20.8</td><td>13.6</td><td>13.9</td><td> 8.1</td><td>1</td></tr>\n",
              "\t<tr><th scope=row>5</th><td>22.1</td><td>10.8</td><td>16.4</td><td>10.5</td><td>22.0</td><td>23.4</td><td> 2.6</td><td>18.2</td><td>23.8</td><td>11.3</td><td> 5.5</td><td>16.8</td><td>16.2</td><td>0</td></tr>\n",
              "\t<tr><th scope=row>6</th><td>21.9</td><td> 5.5</td><td>11.5</td><td> 5.0</td><td>27.9</td><td>20.9</td><td>20.5</td><td>22.7</td><td>33.9</td><td> 7.4</td><td> 3.6</td><td>38.4</td><td> 5.2</td><td>1</td></tr>\n",
              "</tbody>\n",
              "</table>\n"
            ],
            "text/markdown": "\nA data.frame: 6 × 14\n\n| <!--/--> | Phoenix.Feather &lt;dbl&gt; | Unicorn.Horn &lt;dbl&gt; | Dragon.s.Blood &lt;dbl&gt; | Mermaid.Tears &lt;dbl&gt; | Fairy.Dust &lt;dbl&gt; | Goblin.Toes &lt;dbl&gt; | Witch.s.Brew &lt;dbl&gt; | Griffin.Claw &lt;dbl&gt; | Troll.Hair &lt;dbl&gt; | Kraken.Ink &lt;dbl&gt; | Minotaur.Horn &lt;dbl&gt; | Basilisk.Scale &lt;dbl&gt; | Chimera.Fang &lt;dbl&gt; | Cured &lt;int&gt; |\n|---|---|---|---|---|---|---|---|---|---|---|---|---|---|---|\n| 1 |  2.4 | 18.7 | 18.4 | 27.9 |  7.9 |  9.6 | 18.3 | 13.2 |  2.5 | 26.0 | 10.5 | 26.2 | 12.5 | 0 |\n| 2 |  2.1 |  6.0 | 15.0 | 13.3 | 15.6 | 13.1 | 11.0 |  5.0 |  7.2 | 26.0 |  1.5 | 13.3 |  6.2 | 0 |\n| 3 | 17.2 | 13.9 | 23.8 |  6.8 | 10.7 | 15.8 | 19.4 |  2.7 | 15.4 | 21.2 | 11.1 | 16.6 | 11.4 | 1 |\n| 4 |  8.4 |  9.7 |  6.8 | 26.9 |  4.6 | 29.1 | 14.6 | 19.7 | 18.0 | 20.8 | 13.6 | 13.9 |  8.1 | 1 |\n| 5 | 22.1 | 10.8 | 16.4 | 10.5 | 22.0 | 23.4 |  2.6 | 18.2 | 23.8 | 11.3 |  5.5 | 16.8 | 16.2 | 0 |\n| 6 | 21.9 |  5.5 | 11.5 |  5.0 | 27.9 | 20.9 | 20.5 | 22.7 | 33.9 |  7.4 |  3.6 | 38.4 |  5.2 | 1 |\n\n",
            "text/latex": "A data.frame: 6 × 14\n\\begin{tabular}{r|llllllllllllll}\n  & Phoenix.Feather & Unicorn.Horn & Dragon.s.Blood & Mermaid.Tears & Fairy.Dust & Goblin.Toes & Witch.s.Brew & Griffin.Claw & Troll.Hair & Kraken.Ink & Minotaur.Horn & Basilisk.Scale & Chimera.Fang & Cured\\\\\n  & <dbl> & <dbl> & <dbl> & <dbl> & <dbl> & <dbl> & <dbl> & <dbl> & <dbl> & <dbl> & <dbl> & <dbl> & <dbl> & <int>\\\\\n\\hline\n\t1 &  2.4 & 18.7 & 18.4 & 27.9 &  7.9 &  9.6 & 18.3 & 13.2 &  2.5 & 26.0 & 10.5 & 26.2 & 12.5 & 0\\\\\n\t2 &  2.1 &  6.0 & 15.0 & 13.3 & 15.6 & 13.1 & 11.0 &  5.0 &  7.2 & 26.0 &  1.5 & 13.3 &  6.2 & 0\\\\\n\t3 & 17.2 & 13.9 & 23.8 &  6.8 & 10.7 & 15.8 & 19.4 &  2.7 & 15.4 & 21.2 & 11.1 & 16.6 & 11.4 & 1\\\\\n\t4 &  8.4 &  9.7 &  6.8 & 26.9 &  4.6 & 29.1 & 14.6 & 19.7 & 18.0 & 20.8 & 13.6 & 13.9 &  8.1 & 1\\\\\n\t5 & 22.1 & 10.8 & 16.4 & 10.5 & 22.0 & 23.4 &  2.6 & 18.2 & 23.8 & 11.3 &  5.5 & 16.8 & 16.2 & 0\\\\\n\t6 & 21.9 &  5.5 & 11.5 &  5.0 & 27.9 & 20.9 & 20.5 & 22.7 & 33.9 &  7.4 &  3.6 & 38.4 &  5.2 & 1\\\\\n\\end{tabular}\n",
            "text/plain": [
              "  Phoenix.Feather Unicorn.Horn Dragon.s.Blood Mermaid.Tears Fairy.Dust\n",
              "1  2.4            18.7         18.4           27.9           7.9      \n",
              "2  2.1             6.0         15.0           13.3          15.6      \n",
              "3 17.2            13.9         23.8            6.8          10.7      \n",
              "4  8.4             9.7          6.8           26.9           4.6      \n",
              "5 22.1            10.8         16.4           10.5          22.0      \n",
              "6 21.9             5.5         11.5            5.0          27.9      \n",
              "  Goblin.Toes Witch.s.Brew Griffin.Claw Troll.Hair Kraken.Ink Minotaur.Horn\n",
              "1  9.6        18.3         13.2          2.5       26.0       10.5         \n",
              "2 13.1        11.0          5.0          7.2       26.0        1.5         \n",
              "3 15.8        19.4          2.7         15.4       21.2       11.1         \n",
              "4 29.1        14.6         19.7         18.0       20.8       13.6         \n",
              "5 23.4         2.6         18.2         23.8       11.3        5.5         \n",
              "6 20.9        20.5         22.7         33.9        7.4        3.6         \n",
              "  Basilisk.Scale Chimera.Fang Cured\n",
              "1 26.2           12.5         0    \n",
              "2 13.3            6.2         0    \n",
              "3 16.6           11.4         1    \n",
              "4 13.9            8.1         1    \n",
              "5 16.8           16.2         0    \n",
              "6 38.4            5.2         1    "
            ]
          },
          "metadata": {}
        }
      ]
    },
    {
      "cell_type": "code",
      "source": [
        "summary(princess_df) # muestra un resumen con las estadísticas de cada columna"
      ],
      "metadata": {
        "colab": {
          "base_uri": "https://localhost:8080/"
        },
        "id": "hbMJF9Dfgk0M",
        "outputId": "616b79d9-d382-435d-872d-bf66817db31b"
      },
      "execution_count": null,
      "outputs": [
        {
          "output_type": "display_data",
          "data": {
            "text/plain": [
              " Phoenix.Feather  Unicorn.Horn   Dragon.s.Blood  Mermaid.Tears  \n",
              " Min.   : 1.00   Min.   : 1.00   Min.   : 1.00   Min.   : 1.00  \n",
              " 1st Qu.: 8.50   1st Qu.: 5.30   1st Qu.: 9.60   1st Qu.: 7.60  \n",
              " Median :14.70   Median : 9.50   Median :15.80   Median :13.10  \n",
              " Mean   :15.37   Mean   :10.95   Mean   :16.12   Mean   :13.63  \n",
              " 3rd Qu.:21.30   3rd Qu.:15.57   3rd Qu.:22.00   3rd Qu.:19.00  \n",
              " Max.   :42.10   Max.   :34.10   Max.   :40.80   Max.   :35.80  \n",
              "   Fairy.Dust      Goblin.Toes     Witch.s.Brew     Griffin.Claw  \n",
              " Min.   : 1.000   Min.   : 1.00   Min.   : 1.000   Min.   : 1.00  \n",
              " 1st Qu.: 8.625   1st Qu.: 7.90   1st Qu.: 6.325   1st Qu.: 8.40  \n",
              " Median :14.500   Median :13.50   Median :11.200   Median :14.40  \n",
              " Mean   :15.069   Mean   :14.16   Mean   :12.329   Mean   :14.91  \n",
              " 3rd Qu.:20.700   3rd Qu.:19.50   3rd Qu.:16.900   3rd Qu.:20.50  \n",
              " Max.   :40.400   Max.   :37.80   Max.   :37.300   Max.   :39.40  \n",
              "   Troll.Hair      Kraken.Ink    Minotaur.Horn   Basilisk.Scale \n",
              " Min.   : 1.00   Min.   : 1.00   Min.   : 1.00   Min.   : 1.00  \n",
              " 1st Qu.: 8.90   1st Qu.: 8.80   1st Qu.: 5.20   1st Qu.: 8.80  \n",
              " Median :16.30   Median :14.40   Median : 9.70   Median :14.80  \n",
              " Mean   :16.87   Mean   :14.89   Mean   :10.92   Mean   :15.37  \n",
              " 3rd Qu.:24.00   3rd Qu.:20.40   3rd Qu.:15.38   3rd Qu.:21.10  \n",
              " Max.   :44.80   Max.   :39.50   Max.   :33.70   Max.   :42.00  \n",
              "  Chimera.Fang       Cured       \n",
              " Min.   : 1.00   Min.   :0.0000  \n",
              " 1st Qu.: 5.60   1st Qu.:0.0000  \n",
              " Median :10.50   Median :0.0000  \n",
              " Mean   :12.08   Mean   :0.4966  \n",
              " 3rd Qu.:17.27   3rd Qu.:1.0000  \n",
              " Max.   :37.80   Max.   :1.0000  "
            ]
          },
          "metadata": {}
        }
      ]
    },
    {
      "cell_type": "code",
      "source": [
        "tail(princess_df) # muestra las las últimas filas del dataset"
      ],
      "metadata": {
        "colab": {
          "base_uri": "https://localhost:8080/"
        },
        "id": "otTNjQ0VgraE",
        "outputId": "49a04dcc-ee26-489a-d183-4ddefd402730"
      },
      "execution_count": null,
      "outputs": [
        {
          "output_type": "display_data",
          "data": {
            "text/html": [
              "<table class=\"dataframe\">\n",
              "<caption>A data.frame: 6 × 14</caption>\n",
              "<thead>\n",
              "\t<tr><th></th><th scope=col>Phoenix.Feather</th><th scope=col>Unicorn.Horn</th><th scope=col>Dragon.s.Blood</th><th scope=col>Mermaid.Tears</th><th scope=col>Fairy.Dust</th><th scope=col>Goblin.Toes</th><th scope=col>Witch.s.Brew</th><th scope=col>Griffin.Claw</th><th scope=col>Troll.Hair</th><th scope=col>Kraken.Ink</th><th scope=col>Minotaur.Horn</th><th scope=col>Basilisk.Scale</th><th scope=col>Chimera.Fang</th><th scope=col>Cured</th></tr>\n",
              "\t<tr><th></th><th scope=col>&lt;dbl&gt;</th><th scope=col>&lt;dbl&gt;</th><th scope=col>&lt;dbl&gt;</th><th scope=col>&lt;dbl&gt;</th><th scope=col>&lt;dbl&gt;</th><th scope=col>&lt;dbl&gt;</th><th scope=col>&lt;dbl&gt;</th><th scope=col>&lt;dbl&gt;</th><th scope=col>&lt;dbl&gt;</th><th scope=col>&lt;dbl&gt;</th><th scope=col>&lt;dbl&gt;</th><th scope=col>&lt;dbl&gt;</th><th scope=col>&lt;dbl&gt;</th><th scope=col>&lt;int&gt;</th></tr>\n",
              "</thead>\n",
              "<tbody>\n",
              "\t<tr><th scope=row>2333</th><td>14.6</td><td>14.2</td><td>30.3</td><td> 9.7</td><td>10.1</td><td>14.4</td><td> 9.9</td><td>17.8</td><td> 6.1</td><td>11.5</td><td>11.0</td><td>21.8</td><td> 1.4</td><td>0</td></tr>\n",
              "\t<tr><th scope=row>2334</th><td> 9.4</td><td> 2.2</td><td>15.8</td><td> 5.9</td><td>29.7</td><td>18.7</td><td>11.5</td><td>13.1</td><td>15.3</td><td>22.5</td><td>10.1</td><td> 4.7</td><td>13.8</td><td>0</td></tr>\n",
              "\t<tr><th scope=row>2335</th><td>12.1</td><td> 7.6</td><td>20.6</td><td> 5.3</td><td>18.9</td><td>19.1</td><td> 9.4</td><td>11.9</td><td>21.8</td><td>12.0</td><td>26.7</td><td> 8.4</td><td>24.4</td><td>1</td></tr>\n",
              "\t<tr><th scope=row>2336</th><td>15.2</td><td>33.2</td><td> 7.2</td><td>14.5</td><td>16.0</td><td>16.7</td><td> 1.2</td><td>32.5</td><td>34.5</td><td>25.9</td><td> 3.9</td><td>18.0</td><td>19.2</td><td>1</td></tr>\n",
              "\t<tr><th scope=row>2337</th><td> 2.0</td><td>17.0</td><td>33.2</td><td>13.2</td><td>29.1</td><td>35.5</td><td>19.7</td><td>30.3</td><td>30.7</td><td> 4.3</td><td>15.7</td><td>20.5</td><td> 2.1</td><td>1</td></tr>\n",
              "\t<tr><th scope=row>2338</th><td> 6.2</td><td> 2.6</td><td>11.7</td><td>23.8</td><td>11.4</td><td> 7.3</td><td>26.4</td><td>18.2</td><td>14.0</td><td>17.1</td><td> 3.6</td><td>21.8</td><td> 2.5</td><td>1</td></tr>\n",
              "</tbody>\n",
              "</table>\n"
            ],
            "text/markdown": "\nA data.frame: 6 × 14\n\n| <!--/--> | Phoenix.Feather &lt;dbl&gt; | Unicorn.Horn &lt;dbl&gt; | Dragon.s.Blood &lt;dbl&gt; | Mermaid.Tears &lt;dbl&gt; | Fairy.Dust &lt;dbl&gt; | Goblin.Toes &lt;dbl&gt; | Witch.s.Brew &lt;dbl&gt; | Griffin.Claw &lt;dbl&gt; | Troll.Hair &lt;dbl&gt; | Kraken.Ink &lt;dbl&gt; | Minotaur.Horn &lt;dbl&gt; | Basilisk.Scale &lt;dbl&gt; | Chimera.Fang &lt;dbl&gt; | Cured &lt;int&gt; |\n|---|---|---|---|---|---|---|---|---|---|---|---|---|---|---|\n| 2333 | 14.6 | 14.2 | 30.3 |  9.7 | 10.1 | 14.4 |  9.9 | 17.8 |  6.1 | 11.5 | 11.0 | 21.8 |  1.4 | 0 |\n| 2334 |  9.4 |  2.2 | 15.8 |  5.9 | 29.7 | 18.7 | 11.5 | 13.1 | 15.3 | 22.5 | 10.1 |  4.7 | 13.8 | 0 |\n| 2335 | 12.1 |  7.6 | 20.6 |  5.3 | 18.9 | 19.1 |  9.4 | 11.9 | 21.8 | 12.0 | 26.7 |  8.4 | 24.4 | 1 |\n| 2336 | 15.2 | 33.2 |  7.2 | 14.5 | 16.0 | 16.7 |  1.2 | 32.5 | 34.5 | 25.9 |  3.9 | 18.0 | 19.2 | 1 |\n| 2337 |  2.0 | 17.0 | 33.2 | 13.2 | 29.1 | 35.5 | 19.7 | 30.3 | 30.7 |  4.3 | 15.7 | 20.5 |  2.1 | 1 |\n| 2338 |  6.2 |  2.6 | 11.7 | 23.8 | 11.4 |  7.3 | 26.4 | 18.2 | 14.0 | 17.1 |  3.6 | 21.8 |  2.5 | 1 |\n\n",
            "text/latex": "A data.frame: 6 × 14\n\\begin{tabular}{r|llllllllllllll}\n  & Phoenix.Feather & Unicorn.Horn & Dragon.s.Blood & Mermaid.Tears & Fairy.Dust & Goblin.Toes & Witch.s.Brew & Griffin.Claw & Troll.Hair & Kraken.Ink & Minotaur.Horn & Basilisk.Scale & Chimera.Fang & Cured\\\\\n  & <dbl> & <dbl> & <dbl> & <dbl> & <dbl> & <dbl> & <dbl> & <dbl> & <dbl> & <dbl> & <dbl> & <dbl> & <dbl> & <int>\\\\\n\\hline\n\t2333 & 14.6 & 14.2 & 30.3 &  9.7 & 10.1 & 14.4 &  9.9 & 17.8 &  6.1 & 11.5 & 11.0 & 21.8 &  1.4 & 0\\\\\n\t2334 &  9.4 &  2.2 & 15.8 &  5.9 & 29.7 & 18.7 & 11.5 & 13.1 & 15.3 & 22.5 & 10.1 &  4.7 & 13.8 & 0\\\\\n\t2335 & 12.1 &  7.6 & 20.6 &  5.3 & 18.9 & 19.1 &  9.4 & 11.9 & 21.8 & 12.0 & 26.7 &  8.4 & 24.4 & 1\\\\\n\t2336 & 15.2 & 33.2 &  7.2 & 14.5 & 16.0 & 16.7 &  1.2 & 32.5 & 34.5 & 25.9 &  3.9 & 18.0 & 19.2 & 1\\\\\n\t2337 &  2.0 & 17.0 & 33.2 & 13.2 & 29.1 & 35.5 & 19.7 & 30.3 & 30.7 &  4.3 & 15.7 & 20.5 &  2.1 & 1\\\\\n\t2338 &  6.2 &  2.6 & 11.7 & 23.8 & 11.4 &  7.3 & 26.4 & 18.2 & 14.0 & 17.1 &  3.6 & 21.8 &  2.5 & 1\\\\\n\\end{tabular}\n",
            "text/plain": [
              "     Phoenix.Feather Unicorn.Horn Dragon.s.Blood Mermaid.Tears Fairy.Dust\n",
              "2333 14.6            14.2         30.3            9.7          10.1      \n",
              "2334  9.4             2.2         15.8            5.9          29.7      \n",
              "2335 12.1             7.6         20.6            5.3          18.9      \n",
              "2336 15.2            33.2          7.2           14.5          16.0      \n",
              "2337  2.0            17.0         33.2           13.2          29.1      \n",
              "2338  6.2             2.6         11.7           23.8          11.4      \n",
              "     Goblin.Toes Witch.s.Brew Griffin.Claw Troll.Hair Kraken.Ink Minotaur.Horn\n",
              "2333 14.4         9.9         17.8          6.1       11.5       11.0         \n",
              "2334 18.7        11.5         13.1         15.3       22.5       10.1         \n",
              "2335 19.1         9.4         11.9         21.8       12.0       26.7         \n",
              "2336 16.7         1.2         32.5         34.5       25.9        3.9         \n",
              "2337 35.5        19.7         30.3         30.7        4.3       15.7         \n",
              "2338  7.3        26.4         18.2         14.0       17.1        3.6         \n",
              "     Basilisk.Scale Chimera.Fang Cured\n",
              "2333 21.8            1.4         0    \n",
              "2334  4.7           13.8         0    \n",
              "2335  8.4           24.4         1    \n",
              "2336 18.0           19.2         1    \n",
              "2337 20.5            2.1         1    \n",
              "2338 21.8            2.5         1    "
            ]
          },
          "metadata": {}
        }
      ]
    },
    {
      "cell_type": "code",
      "source": [
        "str(princess_df) # muestra la estructura del dataset"
      ],
      "metadata": {
        "colab": {
          "base_uri": "https://localhost:8080/"
        },
        "id": "txoJGFwOhClR",
        "outputId": "764bf84f-6f1f-4423-d21f-8d9d77694663"
      },
      "execution_count": null,
      "outputs": [
        {
          "output_type": "stream",
          "name": "stdout",
          "text": [
            "'data.frame':\t2338 obs. of  14 variables:\n",
            " $ Phoenix.Feather: num  2.4 2.1 17.2 8.4 22.1 21.9 30 16.4 28.4 11.8 ...\n",
            " $ Unicorn.Horn   : num  18.7 6 13.9 9.7 10.8 5.5 8.6 12.1 18.9 17.7 ...\n",
            " $ Dragon.s.Blood : num  18.4 15 23.8 6.8 16.4 11.5 29.1 14.2 30.3 8.8 ...\n",
            " $ Mermaid.Tears  : num  27.9 13.3 6.8 26.9 10.5 5 26 22 5.6 22.9 ...\n",
            " $ Fairy.Dust     : num  7.9 15.6 10.7 4.6 22 27.9 18.6 15.6 18 6.1 ...\n",
            " $ Goblin.Toes    : num  9.6 13.1 15.8 29.1 23.4 20.9 13.8 10.4 9.9 5.8 ...\n",
            " $ Witch.s.Brew   : num  18.3 11 19.4 14.6 2.6 20.5 3.8 11.7 6.2 15.7 ...\n",
            " $ Griffin.Claw   : num  13.2 5 2.7 19.7 18.2 22.7 19.1 18.4 24.4 2.6 ...\n",
            " $ Troll.Hair     : num  2.5 7.2 15.4 18 23.8 33.9 42.3 21 14.4 16.5 ...\n",
            " $ Kraken.Ink     : num  26 26 21.2 20.8 11.3 7.4 17.3 20.3 2.7 23.7 ...\n",
            " $ Minotaur.Horn  : num  10.5 1.5 11.1 13.6 5.5 3.6 16.8 4 15.1 25.2 ...\n",
            " $ Basilisk.Scale : num  26.2 13.3 16.6 13.9 16.8 38.4 16.3 15.7 41.6 1.7 ...\n",
            " $ Chimera.Fang   : num  12.5 6.2 11.4 8.1 16.2 5.2 4.5 15.3 7 1.1 ...\n",
            " $ Cured          : int  0 0 1 1 0 1 1 0 0 1 ...\n"
          ]
        }
      ]
    },
    {
      "cell_type": "markdown",
      "source": [
        "*Dataframe* **Wine**"
      ],
      "metadata": {
        "id": "91okHPz9g5ij"
      }
    },
    {
      "cell_type": "code",
      "source": [
        "head(wine_df)"
      ],
      "metadata": {
        "colab": {
          "base_uri": "https://localhost:8080/"
        },
        "id": "nJEQVYmXg7d0",
        "outputId": "0a40ef61-4285-41a1-fc2e-d544779fe7ea"
      },
      "execution_count": null,
      "outputs": [
        {
          "output_type": "display_data",
          "data": {
            "text/html": [
              "<table class=\"dataframe\">\n",
              "<caption>A data.frame: 6 × 12</caption>\n",
              "<thead>\n",
              "\t<tr><th></th><th scope=col>fixed.acidity</th><th scope=col>volatile.acidity</th><th scope=col>citric.acid</th><th scope=col>residual.sugar</th><th scope=col>chlorides</th><th scope=col>free.sulfur.dioxide</th><th scope=col>total.sulfur.dioxide</th><th scope=col>density</th><th scope=col>pH</th><th scope=col>sulphates</th><th scope=col>alcohol</th><th scope=col>quality</th></tr>\n",
              "\t<tr><th></th><th scope=col>&lt;dbl&gt;</th><th scope=col>&lt;dbl&gt;</th><th scope=col>&lt;dbl&gt;</th><th scope=col>&lt;dbl&gt;</th><th scope=col>&lt;dbl&gt;</th><th scope=col>&lt;dbl&gt;</th><th scope=col>&lt;dbl&gt;</th><th scope=col>&lt;dbl&gt;</th><th scope=col>&lt;dbl&gt;</th><th scope=col>&lt;dbl&gt;</th><th scope=col>&lt;dbl&gt;</th><th scope=col>&lt;chr&gt;</th></tr>\n",
              "</thead>\n",
              "<tbody>\n",
              "\t<tr><th scope=row>1</th><td> 7.4</td><td>0.70</td><td>0.00</td><td>1.9</td><td>0.076</td><td>11</td><td>34</td><td>0.9978</td><td>3.51</td><td>0.56</td><td>9.4</td><td>bad </td></tr>\n",
              "\t<tr><th scope=row>2</th><td> 7.8</td><td>0.88</td><td>0.00</td><td>2.6</td><td>0.098</td><td>25</td><td>67</td><td>0.9968</td><td>3.20</td><td>0.68</td><td>9.8</td><td>bad </td></tr>\n",
              "\t<tr><th scope=row>3</th><td> 7.8</td><td>0.76</td><td>0.04</td><td>2.3</td><td>0.092</td><td>15</td><td>54</td><td>0.9970</td><td>3.26</td><td>0.65</td><td>9.8</td><td>bad </td></tr>\n",
              "\t<tr><th scope=row>4</th><td>11.2</td><td>0.28</td><td>0.56</td><td>1.9</td><td>0.075</td><td>17</td><td>60</td><td>0.9980</td><td>3.16</td><td>0.58</td><td>9.8</td><td>good</td></tr>\n",
              "\t<tr><th scope=row>5</th><td> 7.4</td><td>0.70</td><td>0.00</td><td>1.9</td><td>0.076</td><td>11</td><td>34</td><td>0.9978</td><td>3.51</td><td>0.56</td><td>9.4</td><td>bad </td></tr>\n",
              "\t<tr><th scope=row>6</th><td> 7.4</td><td>0.66</td><td>0.00</td><td>1.8</td><td>0.075</td><td>13</td><td>40</td><td>0.9978</td><td>3.51</td><td>0.56</td><td>9.4</td><td>bad </td></tr>\n",
              "</tbody>\n",
              "</table>\n"
            ],
            "text/markdown": "\nA data.frame: 6 × 12\n\n| <!--/--> | fixed.acidity &lt;dbl&gt; | volatile.acidity &lt;dbl&gt; | citric.acid &lt;dbl&gt; | residual.sugar &lt;dbl&gt; | chlorides &lt;dbl&gt; | free.sulfur.dioxide &lt;dbl&gt; | total.sulfur.dioxide &lt;dbl&gt; | density &lt;dbl&gt; | pH &lt;dbl&gt; | sulphates &lt;dbl&gt; | alcohol &lt;dbl&gt; | quality &lt;chr&gt; |\n|---|---|---|---|---|---|---|---|---|---|---|---|---|\n| 1 |  7.4 | 0.70 | 0.00 | 1.9 | 0.076 | 11 | 34 | 0.9978 | 3.51 | 0.56 | 9.4 | bad  |\n| 2 |  7.8 | 0.88 | 0.00 | 2.6 | 0.098 | 25 | 67 | 0.9968 | 3.20 | 0.68 | 9.8 | bad  |\n| 3 |  7.8 | 0.76 | 0.04 | 2.3 | 0.092 | 15 | 54 | 0.9970 | 3.26 | 0.65 | 9.8 | bad  |\n| 4 | 11.2 | 0.28 | 0.56 | 1.9 | 0.075 | 17 | 60 | 0.9980 | 3.16 | 0.58 | 9.8 | good |\n| 5 |  7.4 | 0.70 | 0.00 | 1.9 | 0.076 | 11 | 34 | 0.9978 | 3.51 | 0.56 | 9.4 | bad  |\n| 6 |  7.4 | 0.66 | 0.00 | 1.8 | 0.075 | 13 | 40 | 0.9978 | 3.51 | 0.56 | 9.4 | bad  |\n\n",
            "text/latex": "A data.frame: 6 × 12\n\\begin{tabular}{r|llllllllllll}\n  & fixed.acidity & volatile.acidity & citric.acid & residual.sugar & chlorides & free.sulfur.dioxide & total.sulfur.dioxide & density & pH & sulphates & alcohol & quality\\\\\n  & <dbl> & <dbl> & <dbl> & <dbl> & <dbl> & <dbl> & <dbl> & <dbl> & <dbl> & <dbl> & <dbl> & <chr>\\\\\n\\hline\n\t1 &  7.4 & 0.70 & 0.00 & 1.9 & 0.076 & 11 & 34 & 0.9978 & 3.51 & 0.56 & 9.4 & bad \\\\\n\t2 &  7.8 & 0.88 & 0.00 & 2.6 & 0.098 & 25 & 67 & 0.9968 & 3.20 & 0.68 & 9.8 & bad \\\\\n\t3 &  7.8 & 0.76 & 0.04 & 2.3 & 0.092 & 15 & 54 & 0.9970 & 3.26 & 0.65 & 9.8 & bad \\\\\n\t4 & 11.2 & 0.28 & 0.56 & 1.9 & 0.075 & 17 & 60 & 0.9980 & 3.16 & 0.58 & 9.8 & good\\\\\n\t5 &  7.4 & 0.70 & 0.00 & 1.9 & 0.076 & 11 & 34 & 0.9978 & 3.51 & 0.56 & 9.4 & bad \\\\\n\t6 &  7.4 & 0.66 & 0.00 & 1.8 & 0.075 & 13 & 40 & 0.9978 & 3.51 & 0.56 & 9.4 & bad \\\\\n\\end{tabular}\n",
            "text/plain": [
              "  fixed.acidity volatile.acidity citric.acid residual.sugar chlorides\n",
              "1  7.4          0.70             0.00        1.9            0.076    \n",
              "2  7.8          0.88             0.00        2.6            0.098    \n",
              "3  7.8          0.76             0.04        2.3            0.092    \n",
              "4 11.2          0.28             0.56        1.9            0.075    \n",
              "5  7.4          0.70             0.00        1.9            0.076    \n",
              "6  7.4          0.66             0.00        1.8            0.075    \n",
              "  free.sulfur.dioxide total.sulfur.dioxide density pH   sulphates alcohol\n",
              "1 11                  34                   0.9978  3.51 0.56      9.4    \n",
              "2 25                  67                   0.9968  3.20 0.68      9.8    \n",
              "3 15                  54                   0.9970  3.26 0.65      9.8    \n",
              "4 17                  60                   0.9980  3.16 0.58      9.8    \n",
              "5 11                  34                   0.9978  3.51 0.56      9.4    \n",
              "6 13                  40                   0.9978  3.51 0.56      9.4    \n",
              "  quality\n",
              "1 bad    \n",
              "2 bad    \n",
              "3 bad    \n",
              "4 good   \n",
              "5 bad    \n",
              "6 bad    "
            ]
          },
          "metadata": {}
        }
      ]
    },
    {
      "cell_type": "code",
      "source": [
        "summary(wine_df)"
      ],
      "metadata": {
        "colab": {
          "base_uri": "https://localhost:8080/"
        },
        "id": "Deup-QmzhMIk",
        "outputId": "b631791c-2973-4f08-a949-48b923e97af2"
      },
      "execution_count": null,
      "outputs": [
        {
          "output_type": "display_data",
          "data": {
            "text/plain": [
              " fixed.acidity   volatile.acidity  citric.acid    residual.sugar  \n",
              " Min.   : 4.60   Min.   :0.1200   Min.   :0.000   Min.   : 0.900  \n",
              " 1st Qu.: 7.10   1st Qu.:0.3900   1st Qu.:0.090   1st Qu.: 1.900  \n",
              " Median : 7.90   Median :0.5200   Median :0.260   Median : 2.200  \n",
              " Mean   : 8.32   Mean   :0.5278   Mean   :0.271   Mean   : 2.539  \n",
              " 3rd Qu.: 9.20   3rd Qu.:0.6400   3rd Qu.:0.420   3rd Qu.: 2.600  \n",
              " Max.   :15.90   Max.   :1.5800   Max.   :1.000   Max.   :15.500  \n",
              "   chlorides       free.sulfur.dioxide total.sulfur.dioxide    density      \n",
              " Min.   :0.01200   Min.   : 1.00       Min.   :  6.00       Min.   :0.9901  \n",
              " 1st Qu.:0.07000   1st Qu.: 7.00       1st Qu.: 22.00       1st Qu.:0.9956  \n",
              " Median :0.07900   Median :14.00       Median : 38.00       Median :0.9968  \n",
              " Mean   :0.08747   Mean   :15.87       Mean   : 46.47       Mean   :0.9967  \n",
              " 3rd Qu.:0.09000   3rd Qu.:21.00       3rd Qu.: 62.00       3rd Qu.:0.9978  \n",
              " Max.   :0.61100   Max.   :72.00       Max.   :289.00       Max.   :1.0037  \n",
              "       pH          sulphates         alcohol        quality         \n",
              " Min.   :2.740   Min.   :0.3300   Min.   : 8.40   Length:1599       \n",
              " 1st Qu.:3.210   1st Qu.:0.5500   1st Qu.: 9.50   Class :character  \n",
              " Median :3.310   Median :0.6200   Median :10.20   Mode  :character  \n",
              " Mean   :3.311   Mean   :0.6581   Mean   :10.42                     \n",
              " 3rd Qu.:3.400   3rd Qu.:0.7300   3rd Qu.:11.10                     \n",
              " Max.   :4.010   Max.   :2.0000   Max.   :14.90                     "
            ]
          },
          "metadata": {}
        }
      ]
    },
    {
      "cell_type": "code",
      "source": [
        "tail(wine_df)"
      ],
      "metadata": {
        "colab": {
          "base_uri": "https://localhost:8080/"
        },
        "id": "BlqzSinAhOXQ",
        "outputId": "5dffac4b-1464-49bc-e5b0-1ea615e6653e"
      },
      "execution_count": null,
      "outputs": [
        {
          "output_type": "display_data",
          "data": {
            "text/html": [
              "<table class=\"dataframe\">\n",
              "<caption>A data.frame: 6 × 12</caption>\n",
              "<thead>\n",
              "\t<tr><th></th><th scope=col>fixed.acidity</th><th scope=col>volatile.acidity</th><th scope=col>citric.acid</th><th scope=col>residual.sugar</th><th scope=col>chlorides</th><th scope=col>free.sulfur.dioxide</th><th scope=col>total.sulfur.dioxide</th><th scope=col>density</th><th scope=col>pH</th><th scope=col>sulphates</th><th scope=col>alcohol</th><th scope=col>quality</th></tr>\n",
              "\t<tr><th></th><th scope=col>&lt;dbl&gt;</th><th scope=col>&lt;dbl&gt;</th><th scope=col>&lt;dbl&gt;</th><th scope=col>&lt;dbl&gt;</th><th scope=col>&lt;dbl&gt;</th><th scope=col>&lt;dbl&gt;</th><th scope=col>&lt;dbl&gt;</th><th scope=col>&lt;dbl&gt;</th><th scope=col>&lt;dbl&gt;</th><th scope=col>&lt;dbl&gt;</th><th scope=col>&lt;dbl&gt;</th><th scope=col>&lt;chr&gt;</th></tr>\n",
              "</thead>\n",
              "<tbody>\n",
              "\t<tr><th scope=row>1594</th><td>6.8</td><td>0.620</td><td>0.08</td><td>1.9</td><td>0.068</td><td>28</td><td>38</td><td>0.99651</td><td>3.42</td><td>0.82</td><td> 9.5</td><td>good</td></tr>\n",
              "\t<tr><th scope=row>1595</th><td>6.2</td><td>0.600</td><td>0.08</td><td>2.0</td><td>0.090</td><td>32</td><td>44</td><td>0.99490</td><td>3.45</td><td>0.58</td><td>10.5</td><td>bad </td></tr>\n",
              "\t<tr><th scope=row>1596</th><td>5.9</td><td>0.550</td><td>0.10</td><td>2.2</td><td>0.062</td><td>39</td><td>51</td><td>0.99512</td><td>3.52</td><td>0.76</td><td>11.2</td><td>good</td></tr>\n",
              "\t<tr><th scope=row>1597</th><td>6.3</td><td>0.510</td><td>0.13</td><td>2.3</td><td>0.076</td><td>29</td><td>40</td><td>0.99574</td><td>3.42</td><td>0.75</td><td>11.0</td><td>good</td></tr>\n",
              "\t<tr><th scope=row>1598</th><td>5.9</td><td>0.645</td><td>0.12</td><td>2.0</td><td>0.075</td><td>32</td><td>44</td><td>0.99547</td><td>3.57</td><td>0.71</td><td>10.2</td><td>bad </td></tr>\n",
              "\t<tr><th scope=row>1599</th><td>6.0</td><td>0.310</td><td>0.47</td><td>3.6</td><td>0.067</td><td>18</td><td>42</td><td>0.99549</td><td>3.39</td><td>0.66</td><td>11.0</td><td>good</td></tr>\n",
              "</tbody>\n",
              "</table>\n"
            ],
            "text/markdown": "\nA data.frame: 6 × 12\n\n| <!--/--> | fixed.acidity &lt;dbl&gt; | volatile.acidity &lt;dbl&gt; | citric.acid &lt;dbl&gt; | residual.sugar &lt;dbl&gt; | chlorides &lt;dbl&gt; | free.sulfur.dioxide &lt;dbl&gt; | total.sulfur.dioxide &lt;dbl&gt; | density &lt;dbl&gt; | pH &lt;dbl&gt; | sulphates &lt;dbl&gt; | alcohol &lt;dbl&gt; | quality &lt;chr&gt; |\n|---|---|---|---|---|---|---|---|---|---|---|---|---|\n| 1594 | 6.8 | 0.620 | 0.08 | 1.9 | 0.068 | 28 | 38 | 0.99651 | 3.42 | 0.82 |  9.5 | good |\n| 1595 | 6.2 | 0.600 | 0.08 | 2.0 | 0.090 | 32 | 44 | 0.99490 | 3.45 | 0.58 | 10.5 | bad  |\n| 1596 | 5.9 | 0.550 | 0.10 | 2.2 | 0.062 | 39 | 51 | 0.99512 | 3.52 | 0.76 | 11.2 | good |\n| 1597 | 6.3 | 0.510 | 0.13 | 2.3 | 0.076 | 29 | 40 | 0.99574 | 3.42 | 0.75 | 11.0 | good |\n| 1598 | 5.9 | 0.645 | 0.12 | 2.0 | 0.075 | 32 | 44 | 0.99547 | 3.57 | 0.71 | 10.2 | bad  |\n| 1599 | 6.0 | 0.310 | 0.47 | 3.6 | 0.067 | 18 | 42 | 0.99549 | 3.39 | 0.66 | 11.0 | good |\n\n",
            "text/latex": "A data.frame: 6 × 12\n\\begin{tabular}{r|llllllllllll}\n  & fixed.acidity & volatile.acidity & citric.acid & residual.sugar & chlorides & free.sulfur.dioxide & total.sulfur.dioxide & density & pH & sulphates & alcohol & quality\\\\\n  & <dbl> & <dbl> & <dbl> & <dbl> & <dbl> & <dbl> & <dbl> & <dbl> & <dbl> & <dbl> & <dbl> & <chr>\\\\\n\\hline\n\t1594 & 6.8 & 0.620 & 0.08 & 1.9 & 0.068 & 28 & 38 & 0.99651 & 3.42 & 0.82 &  9.5 & good\\\\\n\t1595 & 6.2 & 0.600 & 0.08 & 2.0 & 0.090 & 32 & 44 & 0.99490 & 3.45 & 0.58 & 10.5 & bad \\\\\n\t1596 & 5.9 & 0.550 & 0.10 & 2.2 & 0.062 & 39 & 51 & 0.99512 & 3.52 & 0.76 & 11.2 & good\\\\\n\t1597 & 6.3 & 0.510 & 0.13 & 2.3 & 0.076 & 29 & 40 & 0.99574 & 3.42 & 0.75 & 11.0 & good\\\\\n\t1598 & 5.9 & 0.645 & 0.12 & 2.0 & 0.075 & 32 & 44 & 0.99547 & 3.57 & 0.71 & 10.2 & bad \\\\\n\t1599 & 6.0 & 0.310 & 0.47 & 3.6 & 0.067 & 18 & 42 & 0.99549 & 3.39 & 0.66 & 11.0 & good\\\\\n\\end{tabular}\n",
            "text/plain": [
              "     fixed.acidity volatile.acidity citric.acid residual.sugar chlorides\n",
              "1594 6.8           0.620            0.08        1.9            0.068    \n",
              "1595 6.2           0.600            0.08        2.0            0.090    \n",
              "1596 5.9           0.550            0.10        2.2            0.062    \n",
              "1597 6.3           0.510            0.13        2.3            0.076    \n",
              "1598 5.9           0.645            0.12        2.0            0.075    \n",
              "1599 6.0           0.310            0.47        3.6            0.067    \n",
              "     free.sulfur.dioxide total.sulfur.dioxide density pH   sulphates alcohol\n",
              "1594 28                  38                   0.99651 3.42 0.82       9.5   \n",
              "1595 32                  44                   0.99490 3.45 0.58      10.5   \n",
              "1596 39                  51                   0.99512 3.52 0.76      11.2   \n",
              "1597 29                  40                   0.99574 3.42 0.75      11.0   \n",
              "1598 32                  44                   0.99547 3.57 0.71      10.2   \n",
              "1599 18                  42                   0.99549 3.39 0.66      11.0   \n",
              "     quality\n",
              "1594 good   \n",
              "1595 bad    \n",
              "1596 good   \n",
              "1597 good   \n",
              "1598 bad    \n",
              "1599 good   "
            ]
          },
          "metadata": {}
        }
      ]
    },
    {
      "cell_type": "code",
      "source": [
        "str(wine_df)"
      ],
      "metadata": {
        "colab": {
          "base_uri": "https://localhost:8080/"
        },
        "id": "1JuNK9bOhPrY",
        "outputId": "1539af2b-ff59-4ae5-efe1-555e8e2b1c9a"
      },
      "execution_count": null,
      "outputs": [
        {
          "output_type": "stream",
          "name": "stdout",
          "text": [
            "'data.frame':\t1599 obs. of  12 variables:\n",
            " $ fixed.acidity       : num  7.4 7.8 7.8 11.2 7.4 7.4 7.9 7.3 7.8 7.5 ...\n",
            " $ volatile.acidity    : num  0.7 0.88 0.76 0.28 0.7 0.66 0.6 0.65 0.58 0.5 ...\n",
            " $ citric.acid         : num  0 0 0.04 0.56 0 0 0.06 0 0.02 0.36 ...\n",
            " $ residual.sugar      : num  1.9 2.6 2.3 1.9 1.9 1.8 1.6 1.2 2 6.1 ...\n",
            " $ chlorides           : num  0.076 0.098 0.092 0.075 0.076 0.075 0.069 0.065 0.073 0.071 ...\n",
            " $ free.sulfur.dioxide : num  11 25 15 17 11 13 15 15 9 17 ...\n",
            " $ total.sulfur.dioxide: num  34 67 54 60 34 40 59 21 18 102 ...\n",
            " $ density             : num  0.998 0.997 0.997 0.998 0.998 ...\n",
            " $ pH                  : num  3.51 3.2 3.26 3.16 3.51 3.51 3.3 3.39 3.36 3.35 ...\n",
            " $ sulphates           : num  0.56 0.68 0.65 0.58 0.56 0.56 0.46 0.47 0.57 0.8 ...\n",
            " $ alcohol             : num  9.4 9.8 9.8 9.8 9.4 9.4 9.4 10 9.5 10.5 ...\n",
            " $ quality             : chr  \"bad\" \"bad\" \"bad\" \"good\" ...\n"
          ]
        }
      ]
    },
    {
      "cell_type": "markdown",
      "source": [
        "# 4. En función de la exploración *elegir el dataset* con el que seguirán trabajando. **Justificar la elección.**"
      ],
      "metadata": {
        "id": "43aBoCVxiaR7"
      }
    },
    {
      "cell_type": "markdown",
      "source": [
        "Elegí el dataset **princess** ya que me gustó la historia que tiene en el origen del dataset. Además que son recetas de un alquimista y me parece interesante los datos para realizar mi trabajo."
      ],
      "metadata": {
        "id": "nEb246KPjTIR"
      }
    },
    {
      "cell_type": "markdown",
      "source": [
        "# 5. Si fuera necesario imputar **valores faltantes**, tratar **outliers** y valores **duplicados**."
      ],
      "metadata": {
        "id": "b8xJb8MAjwIp"
      }
    },
    {
      "cell_type": "markdown",
      "source": [
        "**Comenzamos con la limpieza**"
      ],
      "metadata": {
        "id": "7fdl7hbAluf9"
      }
    },
    {
      "cell_type": "code",
      "source": [
        "# Vemos si hay campos nulos en alguna columna\n",
        "colSums(is.na(princess_df))"
      ],
      "metadata": {
        "colab": {
          "base_uri": "https://localhost:8080/"
        },
        "id": "yJzSxywLij7F",
        "outputId": "b5488840-5535-4610-d4ba-6525b286860d"
      },
      "execution_count": null,
      "outputs": [
        {
          "output_type": "display_data",
          "data": {
            "text/html": [
              "<style>\n",
              ".dl-inline {width: auto; margin:0; padding: 0}\n",
              ".dl-inline>dt, .dl-inline>dd {float: none; width: auto; display: inline-block}\n",
              ".dl-inline>dt::after {content: \":\\0020\"; padding-right: .5ex}\n",
              ".dl-inline>dt:not(:first-of-type) {padding-left: .5ex}\n",
              "</style><dl class=dl-inline><dt>Phoenix.Feather</dt><dd>0</dd><dt>Unicorn.Horn</dt><dd>0</dd><dt>Dragon.s.Blood</dt><dd>0</dd><dt>Mermaid.Tears</dt><dd>0</dd><dt>Fairy.Dust</dt><dd>0</dd><dt>Goblin.Toes</dt><dd>0</dd><dt>Witch.s.Brew</dt><dd>0</dd><dt>Griffin.Claw</dt><dd>0</dd><dt>Troll.Hair</dt><dd>0</dd><dt>Kraken.Ink</dt><dd>0</dd><dt>Minotaur.Horn</dt><dd>0</dd><dt>Basilisk.Scale</dt><dd>0</dd><dt>Chimera.Fang</dt><dd>0</dd><dt>Cured</dt><dd>0</dd></dl>\n"
            ],
            "text/markdown": "Phoenix.Feather\n:   0Unicorn.Horn\n:   0Dragon.s.Blood\n:   0Mermaid.Tears\n:   0Fairy.Dust\n:   0Goblin.Toes\n:   0Witch.s.Brew\n:   0Griffin.Claw\n:   0Troll.Hair\n:   0Kraken.Ink\n:   0Minotaur.Horn\n:   0Basilisk.Scale\n:   0Chimera.Fang\n:   0Cured\n:   0\n\n",
            "text/latex": "\\begin{description*}\n\\item[Phoenix.Feather] 0\n\\item[Unicorn.Horn] 0\n\\item[Dragon.s.Blood] 0\n\\item[Mermaid.Tears] 0\n\\item[Fairy.Dust] 0\n\\item[Goblin.Toes] 0\n\\item[Witch.s.Brew] 0\n\\item[Griffin.Claw] 0\n\\item[Troll.Hair] 0\n\\item[Kraken.Ink] 0\n\\item[Minotaur.Horn] 0\n\\item[Basilisk.Scale] 0\n\\item[Chimera.Fang] 0\n\\item[Cured] 0\n\\end{description*}\n",
            "text/plain": [
              "Phoenix.Feather    Unicorn.Horn  Dragon.s.Blood   Mermaid.Tears      Fairy.Dust \n",
              "              0               0               0               0               0 \n",
              "    Goblin.Toes    Witch.s.Brew    Griffin.Claw      Troll.Hair      Kraken.Ink \n",
              "              0               0               0               0               0 \n",
              "  Minotaur.Horn  Basilisk.Scale    Chimera.Fang           Cured \n",
              "              0               0               0               0 "
            ]
          },
          "metadata": {}
        }
      ]
    },
    {
      "cell_type": "code",
      "source": [
        "#Eliminamos las filas que tienen valores nulos (es una de las opciones que podemos tomar)\n",
        "df_ccard <- na.omit(princess_df)"
      ],
      "metadata": {
        "id": "Sb2mHOK9l6RG"
      },
      "execution_count": null,
      "outputs": []
    },
    {
      "cell_type": "markdown",
      "source": [
        "Para realizar el conteo vamos a necesitar una libreria"
      ],
      "metadata": {
        "id": "rjPBFuJbmNZd"
      }
    },
    {
      "cell_type": "code",
      "source": [
        "install.packages('lubridate')#para realizar resumen"
      ],
      "metadata": {
        "colab": {
          "base_uri": "https://localhost:8080/"
        },
        "id": "PLCNttOgmFle",
        "outputId": "8d80fba4-52b8-49ff-94f3-010394630350"
      },
      "execution_count": null,
      "outputs": [
        {
          "output_type": "stream",
          "name": "stderr",
          "text": [
            "Installing package into ‘/usr/local/lib/R/site-library’\n",
            "(as ‘lib’ is unspecified)\n",
            "\n"
          ]
        }
      ]
    },
    {
      "cell_type": "code",
      "source": [
        "library(dplyr) #importamos la libreria"
      ],
      "metadata": {
        "colab": {
          "base_uri": "https://localhost:8080/"
        },
        "id": "217lqswGmCgN",
        "outputId": "04a12e9a-49b7-47a2-b9ac-d48dff09ac47"
      },
      "execution_count": null,
      "outputs": [
        {
          "output_type": "stream",
          "name": "stderr",
          "text": [
            "\n",
            "Attaching package: ‘dplyr’\n",
            "\n",
            "\n",
            "The following objects are masked from ‘package:stats’:\n",
            "\n",
            "    filter, lag\n",
            "\n",
            "\n",
            "The following objects are masked from ‘package:base’:\n",
            "\n",
            "    intersect, setdiff, setequal, union\n",
            "\n",
            "\n"
          ]
        }
      ]
    },
    {
      "cell_type": "markdown",
      "source": [
        "Una vez importada la podemos usar"
      ],
      "metadata": {
        "id": "R8g6FrM-mSO6"
      }
    },
    {
      "cell_type": "code",
      "source": [
        "#Contamos los valores en blanco en cada columna\n",
        "#Usamos la función de resumen de la librería dplyr\n",
        "princess_df %>% summarise_all(~ sum(. == ''))"
      ],
      "metadata": {
        "colab": {
          "base_uri": "https://localhost:8080/"
        },
        "id": "eAAiBlkOl-i8",
        "outputId": "0bd6e6f5-291f-4273-bf18-b9351c7db1d2"
      },
      "execution_count": null,
      "outputs": [
        {
          "output_type": "display_data",
          "data": {
            "text/html": [
              "<table class=\"dataframe\">\n",
              "<caption>A data.frame: 1 × 14</caption>\n",
              "<thead>\n",
              "\t<tr><th scope=col>Phoenix.Feather</th><th scope=col>Unicorn.Horn</th><th scope=col>Dragon.s.Blood</th><th scope=col>Mermaid.Tears</th><th scope=col>Fairy.Dust</th><th scope=col>Goblin.Toes</th><th scope=col>Witch.s.Brew</th><th scope=col>Griffin.Claw</th><th scope=col>Troll.Hair</th><th scope=col>Kraken.Ink</th><th scope=col>Minotaur.Horn</th><th scope=col>Basilisk.Scale</th><th scope=col>Chimera.Fang</th><th scope=col>Cured</th></tr>\n",
              "\t<tr><th scope=col>&lt;int&gt;</th><th scope=col>&lt;int&gt;</th><th scope=col>&lt;int&gt;</th><th scope=col>&lt;int&gt;</th><th scope=col>&lt;int&gt;</th><th scope=col>&lt;int&gt;</th><th scope=col>&lt;int&gt;</th><th scope=col>&lt;int&gt;</th><th scope=col>&lt;int&gt;</th><th scope=col>&lt;int&gt;</th><th scope=col>&lt;int&gt;</th><th scope=col>&lt;int&gt;</th><th scope=col>&lt;int&gt;</th><th scope=col>&lt;int&gt;</th></tr>\n",
              "</thead>\n",
              "<tbody>\n",
              "\t<tr><td>0</td><td>0</td><td>0</td><td>0</td><td>0</td><td>0</td><td>0</td><td>0</td><td>0</td><td>0</td><td>0</td><td>0</td><td>0</td><td>0</td></tr>\n",
              "</tbody>\n",
              "</table>\n"
            ],
            "text/markdown": "\nA data.frame: 1 × 14\n\n| Phoenix.Feather &lt;int&gt; | Unicorn.Horn &lt;int&gt; | Dragon.s.Blood &lt;int&gt; | Mermaid.Tears &lt;int&gt; | Fairy.Dust &lt;int&gt; | Goblin.Toes &lt;int&gt; | Witch.s.Brew &lt;int&gt; | Griffin.Claw &lt;int&gt; | Troll.Hair &lt;int&gt; | Kraken.Ink &lt;int&gt; | Minotaur.Horn &lt;int&gt; | Basilisk.Scale &lt;int&gt; | Chimera.Fang &lt;int&gt; | Cured &lt;int&gt; |\n|---|---|---|---|---|---|---|---|---|---|---|---|---|---|\n| 0 | 0 | 0 | 0 | 0 | 0 | 0 | 0 | 0 | 0 | 0 | 0 | 0 | 0 |\n\n",
            "text/latex": "A data.frame: 1 × 14\n\\begin{tabular}{llllllllllllll}\n Phoenix.Feather & Unicorn.Horn & Dragon.s.Blood & Mermaid.Tears & Fairy.Dust & Goblin.Toes & Witch.s.Brew & Griffin.Claw & Troll.Hair & Kraken.Ink & Minotaur.Horn & Basilisk.Scale & Chimera.Fang & Cured\\\\\n <int> & <int> & <int> & <int> & <int> & <int> & <int> & <int> & <int> & <int> & <int> & <int> & <int> & <int>\\\\\n\\hline\n\t 0 & 0 & 0 & 0 & 0 & 0 & 0 & 0 & 0 & 0 & 0 & 0 & 0 & 0\\\\\n\\end{tabular}\n",
            "text/plain": [
              "  Phoenix.Feather Unicorn.Horn Dragon.s.Blood Mermaid.Tears Fairy.Dust\n",
              "1 0               0            0              0             0         \n",
              "  Goblin.Toes Witch.s.Brew Griffin.Claw Troll.Hair Kraken.Ink Minotaur.Horn\n",
              "1 0           0            0            0          0          0            \n",
              "  Basilisk.Scale Chimera.Fang Cured\n",
              "1 0              0            0    "
            ]
          },
          "metadata": {}
        }
      ]
    },
    {
      "cell_type": "markdown",
      "source": [
        "Nos damos con que ya no existen valores nulos ni atipicos"
      ],
      "metadata": {
        "id": "HcCtofsrmkiM"
      }
    },
    {
      "cell_type": "code",
      "source": [
        "# Identificar las variables numéricas\n",
        "num_var <- names(princess_df)[sapply(princess_df, is.numeric)]\n",
        "\n",
        "# Imprimir las variables numéricas\n",
        "print(num_var)"
      ],
      "metadata": {
        "colab": {
          "base_uri": "https://localhost:8080/"
        },
        "id": "sMykaPr0mpQ-",
        "outputId": "09227888-9530-4f57-db5b-627301aeb563"
      },
      "execution_count": null,
      "outputs": [
        {
          "output_type": "stream",
          "name": "stdout",
          "text": [
            " [1] \"Phoenix.Feather\" \"Unicorn.Horn\"    \"Dragon.s.Blood\"  \"Mermaid.Tears\"  \n",
            " [5] \"Fairy.Dust\"      \"Goblin.Toes\"     \"Witch.s.Brew\"    \"Griffin.Claw\"   \n",
            " [9] \"Troll.Hair\"      \"Kraken.Ink\"      \"Minotaur.Horn\"   \"Basilisk.Scale\" \n",
            "[13] \"Chimera.Fang\"    \"Cured\"          \n"
          ]
        }
      ]
    },
    {
      "cell_type": "markdown",
      "source": [
        "# 6. **Chequear desbalanceo** del dataset y sugerir **alternativas** para solucionarlo. Explicar"
      ],
      "metadata": {
        "id": "PYcFXXUVnFMV"
      }
    },
    {
      "cell_type": "markdown",
      "source": [
        "Para chequear esto, necesitamos ver cual seria la variable objetivo en donde se clasifican las curas, en este caso el nombre de la columna es *Cured*"
      ],
      "metadata": {
        "id": "fLx0mH8ina4J"
      }
    },
    {
      "cell_type": "code",
      "source": [
        "table(princess_df$Cured)"
      ],
      "metadata": {
        "colab": {
          "base_uri": "https://localhost:8080/"
        },
        "id": "LKECyAmynFuq",
        "outputId": "07f488be-7bc2-42b4-bd5b-6226af4ae092"
      },
      "execution_count": null,
      "outputs": [
        {
          "output_type": "display_data",
          "data": {
            "text/plain": [
              "\n",
              "   0    1 \n",
              "1177 1161 "
            ]
          },
          "metadata": {}
        }
      ]
    },
    {
      "cell_type": "code",
      "source": [
        "prop.table(table(princess_df$Cured)) * 100"
      ],
      "metadata": {
        "colab": {
          "base_uri": "https://localhost:8080/"
        },
        "id": "6R2bE7_1nyeK",
        "outputId": "dfad4151-8a4e-4c8b-bb2b-5d9305a7bca7"
      },
      "execution_count": null,
      "outputs": [
        {
          "output_type": "display_data",
          "data": {
            "text/plain": [
              "\n",
              "       0        1 \n",
              "50.34217 49.65783 "
            ]
          },
          "metadata": {}
        }
      ]
    },
    {
      "cell_type": "markdown",
      "source": [
        "Podemos ver que no hay tanto desbalanceo, es casi igual la cantidad proporcionada entre 50 % y 49,6 % es algo aceptable, aún así vamos a graficar para poder visualizarlo de otra forma."
      ],
      "metadata": {
        "id": "8Cbyej1WnpwR"
      }
    },
    {
      "cell_type": "code",
      "source": [
        "barplot(table(princess_df$Cured), main = \"Distribución de Clases\", xlab = \"Clase\", ylab = \"Frecuencia\")"
      ],
      "metadata": {
        "colab": {
          "base_uri": "https://localhost:8080/"
        },
        "id": "RMDdr0gun6OF",
        "outputId": "712ca2df-60d6-475e-b484-4a0b86a62683"
      },
      "execution_count": null,
      "outputs": [
        {
          "output_type": "display_data",
          "data": {
            "text/plain": [
              "Plot with title “Distribución de Clases”"
            ],
            "image/png": "[encoded data removed]"
          },
          "metadata": {
            "image/png": {
              "width": 420,
              "height": 420
            }
          }
        }
      ]
    },
    {
      "cell_type": "code",
      "source": [
        "write.csv(princess_df, file = '/content/princess_df.csv') # guadamos el dataset limpio y modificado"
      ],
      "metadata": {
        "id": "vCiL3fHRoMvi"
      },
      "execution_count": null,
      "outputs": []
    },
    {
      "cell_type": "markdown",
      "source": [
        "# 7. Entrenar tres modelos **(SVM, RF y RNA)** para resolver el problema. Realice lo que considere necesario para que el aprendizaje de los tres modelos sea lo mejor posible."
      ],
      "metadata": {
        "id": "O-Q8f3lDoZvu"
      }
    },
    {
      "cell_type": "markdown",
      "source": [
        "Instalamos las librerias necesarias"
      ],
      "metadata": {
        "id": "EZz7FdXwq6_p"
      }
    },
    {
      "cell_type": "code",
      "source": [
        "\n",
        "install.packages('neuralnet')\n",
        "install.packages('NeuralNetTools')\n",
        "install.packages('ggplot2')\n",
        "install.packages('gridExtra')\n",
        "install.packages(\"randomForest\")\n",
        "install.packages('e1071')"
      ],
      "metadata": {
        "colab": {
          "base_uri": "https://localhost:8080/"
        },
        "id": "P3RvEOu-oeeq",
        "outputId": "7c144e81-fb8e-43be-a4f8-41cebfa9c462"
      },
      "execution_count": null,
      "outputs": [
        {
          "output_type": "stream",
          "name": "stderr",
          "text": [
            "Installing package into ‘/usr/local/lib/R/site-library’\n",
            "(as ‘lib’ is unspecified)\n",
            "\n",
            "Installing package into ‘/usr/local/lib/R/site-library’\n",
            "(as ‘lib’ is unspecified)\n",
            "\n",
            "also installing the dependency ‘reshape2’\n",
            "\n",
            "\n",
            "Installing package into ‘/usr/local/lib/R/site-library’\n",
            "(as ‘lib’ is unspecified)\n",
            "\n",
            "Installing package into ‘/usr/local/lib/R/site-library’\n",
            "(as ‘lib’ is unspecified)\n",
            "\n",
            "Installing package into ‘/usr/local/lib/R/site-library’\n",
            "(as ‘lib’ is unspecified)\n",
            "\n",
            "Installing package into ‘/usr/local/lib/R/site-library’\n",
            "(as ‘lib’ is unspecified)\n",
            "\n",
            "also installing the dependency ‘proxy’\n",
            "\n",
            "\n"
          ]
        }
      ]
    },
    {
      "cell_type": "markdown",
      "source": [
        "Importamos las librerias"
      ],
      "metadata": {
        "id": "Y9zphMb2q40Z"
      }
    },
    {
      "cell_type": "code",
      "source": [
        "library('neuralnet')\n",
        "library('NeuralNetTools')\n",
        "library('ggplot2')\n",
        "library('gridExtra')\n",
        "library('e1071')\n",
        "library('randomForest')"
      ],
      "metadata": {
        "id": "KlISZjxXo1el"
      },
      "execution_count": null,
      "outputs": []
    },
    {
      "cell_type": "markdown",
      "source": [
        "*Vamos a entrenar para 100 corridas:*"
      ],
      "metadata": {
        "id": "yispQQHhvoXC"
      }
    },
    {
      "cell_type": "markdown",
      "source": [
        "Comenzamos con **Random Forest**"
      ],
      "metadata": {
        "id": "oR_n4ZiErrIC"
      }
    },
    {
      "cell_type": "code",
      "source": [
        "# Inicializamos vectores para almacenar resultados\n",
        "AciertoRF <- numeric(100)\n",
        "ErroresRF <- numeric(100)\n",
        "ModelosRF <- list()\n",
        "PrediccionRF <- list()\n",
        "\n",
        "# Realizamos 100 corridas\n",
        "for (i in 1:100) {\n",
        "  # Dividimos los datos en conjuntos de entrenamiento y prueba\n",
        "  set.seed(i)\n",
        "  indices <- sample(1:nrow(princess_df), 0.7 * nrow(princess_df))\n",
        "  diagonal_train <- princess_df[indices, ]\n",
        "  diagonal_test <- princess_df[-indices, ]\n",
        "\n",
        "#Tuve un problema con esto ya que no me tomaba el factor, estuve probando y luego averigué que esta forma es mejor de aplicar\n",
        "\n",
        "  # Convertimos la variable de respuesta a factor si no lo es\n",
        "  diagonal_train$Cured <- as.factor(diagonal_train$Cured)\n",
        "  diagonal_test$Cured <- as.factor(diagonal_test$Cured)\n",
        "\n",
        "  # Entrenamos un modelo de Random Forest\n",
        "  ModelosRF[[i]] <- randomForest(Cured ~ ., data = diagonal_train, ntree = 100)\n",
        "  PrediccionRF[[i]] <- predict(ModelosRF[[i]], diagonal_test)\n",
        "\n",
        "  # Evaluamos el rendimiento del modelo\n",
        "  ErroresRF[i] <- sum(PrediccionRF[[i]] != diagonal_test$Cured) / length(diagonal_test$Cured)\n",
        "  AciertoRF[i] <- 1 - ErroresRF[i]\n",
        "}\n",
        "\n",
        "# Guardamos resultados\n",
        "save(AciertoRF, ErroresRF, file = \"resultados_rf.Rdata\")\n"
      ],
      "metadata": {
        "id": "uLEAUBEdvuWj"
      },
      "execution_count": null,
      "outputs": []
    },
    {
      "cell_type": "code",
      "source": [
        "head(diagonal_test)"
      ],
      "metadata": {
        "colab": {
          "base_uri": "https://localhost:8080/",
          "height": 286
        },
        "id": "VKHlwucw2qFs",
        "outputId": "70ed9137-f6a3-4e02-c8e5-d304d369304f"
      },
      "execution_count": null,
      "outputs": [
        {
          "output_type": "display_data",
          "data": {
            "text/html": [
              "<table class=\"dataframe\">\n",
              "<caption>A data.frame: 6 × 14</caption>\n",
              "<thead>\n",
              "\t<tr><th></th><th scope=col>Phoenix.Feather</th><th scope=col>Unicorn.Horn</th><th scope=col>Dragon.s.Blood</th><th scope=col>Mermaid.Tears</th><th scope=col>Fairy.Dust</th><th scope=col>Goblin.Toes</th><th scope=col>Witch.s.Brew</th><th scope=col>Griffin.Claw</th><th scope=col>Troll.Hair</th><th scope=col>Kraken.Ink</th><th scope=col>Minotaur.Horn</th><th scope=col>Basilisk.Scale</th><th scope=col>Chimera.Fang</th><th scope=col>Cured</th></tr>\n",
              "\t<tr><th></th><th scope=col>&lt;dbl&gt;</th><th scope=col>&lt;dbl&gt;</th><th scope=col>&lt;dbl&gt;</th><th scope=col>&lt;dbl&gt;</th><th scope=col>&lt;dbl&gt;</th><th scope=col>&lt;dbl&gt;</th><th scope=col>&lt;dbl&gt;</th><th scope=col>&lt;dbl&gt;</th><th scope=col>&lt;dbl&gt;</th><th scope=col>&lt;dbl&gt;</th><th scope=col>&lt;dbl&gt;</th><th scope=col>&lt;dbl&gt;</th><th scope=col>&lt;dbl&gt;</th><th scope=col>&lt;fct&gt;</th></tr>\n",
              "</thead>\n",
              "<tbody>\n",
              "\t<tr><th scope=row>8</th><td>16.4</td><td>12.1</td><td>14.2</td><td>22.0</td><td>15.6</td><td>10.4</td><td>11.7</td><td>18.4</td><td>21.0</td><td>20.3</td><td> 4.0</td><td>15.7</td><td>15.3</td><td>0</td></tr>\n",
              "\t<tr><th scope=row>9</th><td>28.4</td><td>18.9</td><td>30.3</td><td> 5.6</td><td>18.0</td><td> 9.9</td><td> 6.2</td><td>24.4</td><td>14.4</td><td> 2.7</td><td>15.1</td><td>41.6</td><td> 7.0</td><td>0</td></tr>\n",
              "\t<tr><th scope=row>10</th><td>11.8</td><td>17.7</td><td> 8.8</td><td>22.9</td><td> 6.1</td><td> 5.8</td><td>15.7</td><td> 2.6</td><td>16.5</td><td>23.7</td><td>25.2</td><td> 1.7</td><td> 1.1</td><td>1</td></tr>\n",
              "\t<tr><th scope=row>19</th><td>19.1</td><td>12.2</td><td>19.6</td><td>22.6</td><td>30.7</td><td> 3.3</td><td>36.1</td><td>14.7</td><td>14.3</td><td>25.9</td><td> 9.9</td><td>20.7</td><td>14.2</td><td>1</td></tr>\n",
              "\t<tr><th scope=row>22</th><td>15.8</td><td> 3.2</td><td>15.6</td><td> 5.2</td><td>16.0</td><td>20.0</td><td>12.6</td><td>16.6</td><td> 8.6</td><td>10.9</td><td>25.7</td><td>17.5</td><td> 6.4</td><td>0</td></tr>\n",
              "\t<tr><th scope=row>27</th><td> 6.3</td><td>10.9</td><td>12.5</td><td>21.9</td><td>20.8</td><td> 6.3</td><td>18.9</td><td>17.9</td><td> 4.2</td><td>19.4</td><td> 3.4</td><td>15.8</td><td>13.9</td><td>0</td></tr>\n",
              "</tbody>\n",
              "</table>\n"
            ],
            "text/markdown": "\nA data.frame: 6 × 14\n\n| <!--/--> | Phoenix.Feather &lt;dbl&gt; | Unicorn.Horn &lt;dbl&gt; | Dragon.s.Blood &lt;dbl&gt; | Mermaid.Tears &lt;dbl&gt; | Fairy.Dust &lt;dbl&gt; | Goblin.Toes &lt;dbl&gt; | Witch.s.Brew &lt;dbl&gt; | Griffin.Claw &lt;dbl&gt; | Troll.Hair &lt;dbl&gt; | Kraken.Ink &lt;dbl&gt; | Minotaur.Horn &lt;dbl&gt; | Basilisk.Scale &lt;dbl&gt; | Chimera.Fang &lt;dbl&gt; | Cured &lt;fct&gt; |\n|---|---|---|---|---|---|---|---|---|---|---|---|---|---|---|\n| 8 | 16.4 | 12.1 | 14.2 | 22.0 | 15.6 | 10.4 | 11.7 | 18.4 | 21.0 | 20.3 |  4.0 | 15.7 | 15.3 | 0 |\n| 9 | 28.4 | 18.9 | 30.3 |  5.6 | 18.0 |  9.9 |  6.2 | 24.4 | 14.4 |  2.7 | 15.1 | 41.6 |  7.0 | 0 |\n| 10 | 11.8 | 17.7 |  8.8 | 22.9 |  6.1 |  5.8 | 15.7 |  2.6 | 16.5 | 23.7 | 25.2 |  1.7 |  1.1 | 1 |\n| 19 | 19.1 | 12.2 | 19.6 | 22.6 | 30.7 |  3.3 | 36.1 | 14.7 | 14.3 | 25.9 |  9.9 | 20.7 | 14.2 | 1 |\n| 22 | 15.8 |  3.2 | 15.6 |  5.2 | 16.0 | 20.0 | 12.6 | 16.6 |  8.6 | 10.9 | 25.7 | 17.5 |  6.4 | 0 |\n| 27 |  6.3 | 10.9 | 12.5 | 21.9 | 20.8 |  6.3 | 18.9 | 17.9 |  4.2 | 19.4 |  3.4 | 15.8 | 13.9 | 0 |\n\n",
            "text/latex": "A data.frame: 6 × 14\n\\begin{tabular}{r|llllllllllllll}\n  & Phoenix.Feather & Unicorn.Horn & Dragon.s.Blood & Mermaid.Tears & Fairy.Dust & Goblin.Toes & Witch.s.Brew & Griffin.Claw & Troll.Hair & Kraken.Ink & Minotaur.Horn & Basilisk.Scale & Chimera.Fang & Cured\\\\\n  & <dbl> & <dbl> & <dbl> & <dbl> & <dbl> & <dbl> & <dbl> & <dbl> & <dbl> & <dbl> & <dbl> & <dbl> & <dbl> & <fct>\\\\\n\\hline\n\t8 & 16.4 & 12.1 & 14.2 & 22.0 & 15.6 & 10.4 & 11.7 & 18.4 & 21.0 & 20.3 &  4.0 & 15.7 & 15.3 & 0\\\\\n\t9 & 28.4 & 18.9 & 30.3 &  5.6 & 18.0 &  9.9 &  6.2 & 24.4 & 14.4 &  2.7 & 15.1 & 41.6 &  7.0 & 0\\\\\n\t10 & 11.8 & 17.7 &  8.8 & 22.9 &  6.1 &  5.8 & 15.7 &  2.6 & 16.5 & 23.7 & 25.2 &  1.7 &  1.1 & 1\\\\\n\t19 & 19.1 & 12.2 & 19.6 & 22.6 & 30.7 &  3.3 & 36.1 & 14.7 & 14.3 & 25.9 &  9.9 & 20.7 & 14.2 & 1\\\\\n\t22 & 15.8 &  3.2 & 15.6 &  5.2 & 16.0 & 20.0 & 12.6 & 16.6 &  8.6 & 10.9 & 25.7 & 17.5 &  6.4 & 0\\\\\n\t27 &  6.3 & 10.9 & 12.5 & 21.9 & 20.8 &  6.3 & 18.9 & 17.9 &  4.2 & 19.4 &  3.4 & 15.8 & 13.9 & 0\\\\\n\\end{tabular}\n",
            "text/plain": [
              "   Phoenix.Feather Unicorn.Horn Dragon.s.Blood Mermaid.Tears Fairy.Dust\n",
              "8  16.4            12.1         14.2           22.0          15.6      \n",
              "9  28.4            18.9         30.3            5.6          18.0      \n",
              "10 11.8            17.7          8.8           22.9           6.1      \n",
              "19 19.1            12.2         19.6           22.6          30.7      \n",
              "22 15.8             3.2         15.6            5.2          16.0      \n",
              "27  6.3            10.9         12.5           21.9          20.8      \n",
              "   Goblin.Toes Witch.s.Brew Griffin.Claw Troll.Hair Kraken.Ink Minotaur.Horn\n",
              "8  10.4        11.7         18.4         21.0       20.3        4.0         \n",
              "9   9.9         6.2         24.4         14.4        2.7       15.1         \n",
              "10  5.8        15.7          2.6         16.5       23.7       25.2         \n",
              "19  3.3        36.1         14.7         14.3       25.9        9.9         \n",
              "22 20.0        12.6         16.6          8.6       10.9       25.7         \n",
              "27  6.3        18.9         17.9          4.2       19.4        3.4         \n",
              "   Basilisk.Scale Chimera.Fang Cured\n",
              "8  15.7           15.3         0    \n",
              "9  41.6            7.0         0    \n",
              "10  1.7            1.1         1    \n",
              "19 20.7           14.2         1    \n",
              "22 17.5            6.4         0    \n",
              "27 15.8           13.9         0    "
            ]
          },
          "metadata": {}
        }
      ]
    },
    {
      "cell_type": "code",
      "source": [
        "head(diagonal_train)"
      ],
      "metadata": {
        "colab": {
          "base_uri": "https://localhost:8080/",
          "height": 286
        },
        "id": "XmKQas212ri0",
        "outputId": "84e408ae-54e1-4de3-8f78-4780a5d4b4ed"
      },
      "execution_count": null,
      "outputs": [
        {
          "output_type": "display_data",
          "data": {
            "text/html": [
              "<table class=\"dataframe\">\n",
              "<caption>A data.frame: 6 × 14</caption>\n",
              "<thead>\n",
              "\t<tr><th></th><th scope=col>Phoenix.Feather</th><th scope=col>Unicorn.Horn</th><th scope=col>Dragon.s.Blood</th><th scope=col>Mermaid.Tears</th><th scope=col>Fairy.Dust</th><th scope=col>Goblin.Toes</th><th scope=col>Witch.s.Brew</th><th scope=col>Griffin.Claw</th><th scope=col>Troll.Hair</th><th scope=col>Kraken.Ink</th><th scope=col>Minotaur.Horn</th><th scope=col>Basilisk.Scale</th><th scope=col>Chimera.Fang</th><th scope=col>Cured</th></tr>\n",
              "\t<tr><th></th><th scope=col>&lt;dbl&gt;</th><th scope=col>&lt;dbl&gt;</th><th scope=col>&lt;dbl&gt;</th><th scope=col>&lt;dbl&gt;</th><th scope=col>&lt;dbl&gt;</th><th scope=col>&lt;dbl&gt;</th><th scope=col>&lt;dbl&gt;</th><th scope=col>&lt;dbl&gt;</th><th scope=col>&lt;dbl&gt;</th><th scope=col>&lt;dbl&gt;</th><th scope=col>&lt;dbl&gt;</th><th scope=col>&lt;dbl&gt;</th><th scope=col>&lt;dbl&gt;</th><th scope=col>&lt;fct&gt;</th></tr>\n",
              "</thead>\n",
              "<tbody>\n",
              "\t<tr><th scope=row>503</th><td>19.8</td><td>17.5</td><td>14.0</td><td>10.8</td><td>30.5</td><td>14.7</td><td>13.8</td><td>36.7</td><td>15.7</td><td> 5.7</td><td> 9.7</td><td> 4.1</td><td> 1.8</td><td>1</td></tr>\n",
              "\t<tr><th scope=row>2035</th><td> 6.4</td><td> 8.4</td><td> 7.6</td><td>24.0</td><td>11.1</td><td> 8.2</td><td>19.2</td><td>22.7</td><td> 7.3</td><td>21.6</td><td>12.5</td><td>28.0</td><td>14.3</td><td>0</td></tr>\n",
              "\t<tr><th scope=row>470</th><td>16.3</td><td> 5.6</td><td>25.8</td><td>12.9</td><td>13.8</td><td> 5.0</td><td> 7.8</td><td>19.9</td><td>11.2</td><td>13.5</td><td>20.0</td><td>27.4</td><td>19.0</td><td>0</td></tr>\n",
              "\t<tr><th scope=row>1990</th><td>26.7</td><td> 6.2</td><td>18.1</td><td> 5.8</td><td>12.4</td><td> 5.4</td><td> 1.7</td><td>15.4</td><td>26.1</td><td>30.8</td><td>17.2</td><td>12.3</td><td>35.8</td><td>1</td></tr>\n",
              "\t<tr><th scope=row>1540</th><td> 5.5</td><td>21.9</td><td>21.0</td><td>13.0</td><td> 7.2</td><td>10.4</td><td> 2.3</td><td>14.8</td><td> 2.1</td><td>18.4</td><td> 9.9</td><td> 8.4</td><td>25.6</td><td>0</td></tr>\n",
              "\t<tr><th scope=row>823</th><td>15.7</td><td> 8.1</td><td> 7.0</td><td>13.2</td><td>24.4</td><td>19.4</td><td>19.5</td><td>17.7</td><td>15.1</td><td>15.0</td><td>13.0</td><td> 7.4</td><td>30.6</td><td>1</td></tr>\n",
              "</tbody>\n",
              "</table>\n"
            ],
            "text/markdown": "\nA data.frame: 6 × 14\n\n| <!--/--> | Phoenix.Feather &lt;dbl&gt; | Unicorn.Horn &lt;dbl&gt; | Dragon.s.Blood &lt;dbl&gt; | Mermaid.Tears &lt;dbl&gt; | Fairy.Dust &lt;dbl&gt; | Goblin.Toes &lt;dbl&gt; | Witch.s.Brew &lt;dbl&gt; | Griffin.Claw &lt;dbl&gt; | Troll.Hair &lt;dbl&gt; | Kraken.Ink &lt;dbl&gt; | Minotaur.Horn &lt;dbl&gt; | Basilisk.Scale &lt;dbl&gt; | Chimera.Fang &lt;dbl&gt; | Cured &lt;fct&gt; |\n|---|---|---|---|---|---|---|---|---|---|---|---|---|---|---|\n| 503 | 19.8 | 17.5 | 14.0 | 10.8 | 30.5 | 14.7 | 13.8 | 36.7 | 15.7 |  5.7 |  9.7 |  4.1 |  1.8 | 1 |\n| 2035 |  6.4 |  8.4 |  7.6 | 24.0 | 11.1 |  8.2 | 19.2 | 22.7 |  7.3 | 21.6 | 12.5 | 28.0 | 14.3 | 0 |\n| 470 | 16.3 |  5.6 | 25.8 | 12.9 | 13.8 |  5.0 |  7.8 | 19.9 | 11.2 | 13.5 | 20.0 | 27.4 | 19.0 | 0 |\n| 1990 | 26.7 |  6.2 | 18.1 |  5.8 | 12.4 |  5.4 |  1.7 | 15.4 | 26.1 | 30.8 | 17.2 | 12.3 | 35.8 | 1 |\n| 1540 |  5.5 | 21.9 | 21.0 | 13.0 |  7.2 | 10.4 |  2.3 | 14.8 |  2.1 | 18.4 |  9.9 |  8.4 | 25.6 | 0 |\n| 823 | 15.7 |  8.1 |  7.0 | 13.2 | 24.4 | 19.4 | 19.5 | 17.7 | 15.1 | 15.0 | 13.0 |  7.4 | 30.6 | 1 |\n\n",
            "text/latex": "A data.frame: 6 × 14\n\\begin{tabular}{r|llllllllllllll}\n  & Phoenix.Feather & Unicorn.Horn & Dragon.s.Blood & Mermaid.Tears & Fairy.Dust & Goblin.Toes & Witch.s.Brew & Griffin.Claw & Troll.Hair & Kraken.Ink & Minotaur.Horn & Basilisk.Scale & Chimera.Fang & Cured\\\\\n  & <dbl> & <dbl> & <dbl> & <dbl> & <dbl> & <dbl> & <dbl> & <dbl> & <dbl> & <dbl> & <dbl> & <dbl> & <dbl> & <fct>\\\\\n\\hline\n\t503 & 19.8 & 17.5 & 14.0 & 10.8 & 30.5 & 14.7 & 13.8 & 36.7 & 15.7 &  5.7 &  9.7 &  4.1 &  1.8 & 1\\\\\n\t2035 &  6.4 &  8.4 &  7.6 & 24.0 & 11.1 &  8.2 & 19.2 & 22.7 &  7.3 & 21.6 & 12.5 & 28.0 & 14.3 & 0\\\\\n\t470 & 16.3 &  5.6 & 25.8 & 12.9 & 13.8 &  5.0 &  7.8 & 19.9 & 11.2 & 13.5 & 20.0 & 27.4 & 19.0 & 0\\\\\n\t1990 & 26.7 &  6.2 & 18.1 &  5.8 & 12.4 &  5.4 &  1.7 & 15.4 & 26.1 & 30.8 & 17.2 & 12.3 & 35.8 & 1\\\\\n\t1540 &  5.5 & 21.9 & 21.0 & 13.0 &  7.2 & 10.4 &  2.3 & 14.8 &  2.1 & 18.4 &  9.9 &  8.4 & 25.6 & 0\\\\\n\t823 & 15.7 &  8.1 &  7.0 & 13.2 & 24.4 & 19.4 & 19.5 & 17.7 & 15.1 & 15.0 & 13.0 &  7.4 & 30.6 & 1\\\\\n\\end{tabular}\n",
            "text/plain": [
              "     Phoenix.Feather Unicorn.Horn Dragon.s.Blood Mermaid.Tears Fairy.Dust\n",
              "503  19.8            17.5         14.0           10.8          30.5      \n",
              "2035  6.4             8.4          7.6           24.0          11.1      \n",
              "470  16.3             5.6         25.8           12.9          13.8      \n",
              "1990 26.7             6.2         18.1            5.8          12.4      \n",
              "1540  5.5            21.9         21.0           13.0           7.2      \n",
              "823  15.7             8.1          7.0           13.2          24.4      \n",
              "     Goblin.Toes Witch.s.Brew Griffin.Claw Troll.Hair Kraken.Ink Minotaur.Horn\n",
              "503  14.7        13.8         36.7         15.7        5.7        9.7         \n",
              "2035  8.2        19.2         22.7          7.3       21.6       12.5         \n",
              "470   5.0         7.8         19.9         11.2       13.5       20.0         \n",
              "1990  5.4         1.7         15.4         26.1       30.8       17.2         \n",
              "1540 10.4         2.3         14.8          2.1       18.4        9.9         \n",
              "823  19.4        19.5         17.7         15.1       15.0       13.0         \n",
              "     Basilisk.Scale Chimera.Fang Cured\n",
              "503   4.1            1.8         1    \n",
              "2035 28.0           14.3         0    \n",
              "470  27.4           19.0         0    \n",
              "1990 12.3           35.8         1    \n",
              "1540  8.4           25.6         0    \n",
              "823   7.4           30.6         1    "
            ]
          },
          "metadata": {}
        }
      ]
    },
    {
      "cell_type": "markdown",
      "source": [
        "Para ver los resultados de la prediccion podemos mostrarlos a continuacion"
      ],
      "metadata": {
        "id": "7HNAhOPJ2I1d"
      }
    },
    {
      "cell_type": "code",
      "source": [
        "AciertoRF"
      ],
      "metadata": {
        "colab": {
          "base_uri": "https://localhost:8080/",
          "height": 191
        },
        "id": "GUdF7OK_0hxx",
        "outputId": "d847eb7b-9df7-4cd9-aa5d-f31bd731fa50"
      },
      "execution_count": null,
      "outputs": [
        {
          "output_type": "display_data",
          "data": {
            "text/html": [
              "<style>\n",
              ".list-inline {list-style: none; margin:0; padding: 0}\n",
              ".list-inline>li {display: inline-block}\n",
              ".list-inline>li:not(:last-child)::after {content: \"\\00b7\"; padding: 0 .5ex}\n",
              "</style>\n",
              "<ol class=list-inline><li>0.917378917378917</li><li>0.935897435897436</li><li>0.905982905982906</li><li>0.914529914529915</li><li>0.917378917378917</li><li>0.904558404558405</li><li>0.917378917378917</li><li>0.93019943019943</li><li>0.923076923076923</li><li>0.941595441595442</li><li>0.925925925925926</li><li>0.931623931623932</li><li>0.908831908831909</li><li>0.913105413105413</li><li>0.925925925925926</li><li>0.933048433048433</li><li>0.943019943019943</li><li>0.911680911680912</li><li>0.934472934472934</li><li>0.923076923076923</li><li>0.928774928774929</li><li>0.928774928774929</li><li>0.917378917378917</li><li>0.913105413105413</li><li>0.925925925925926</li><li>0.928774928774929</li><li>0.92022792022792</li><li>0.911680911680912</li><li>0.917378917378917</li><li>0.913105413105413</li><li>0.915954415954416</li><li>0.914529914529915</li><li>0.898860398860399</li><li>0.92022792022792</li><li>0.893162393162393</li><li>0.901709401709402</li><li>0.928774928774929</li><li>0.951566951566952</li><li>0.93019943019943</li><li>0.93019943019943</li><li>0.905982905982906</li><li>0.933048433048433</li><li>0.92022792022792</li><li>0.93019943019943</li><li>0.923076923076923</li><li>0.92022792022792</li><li>0.914529914529915</li><li>0.931623931623932</li><li>0.917378917378917</li><li>0.92022792022792</li><li>0.911680911680912</li><li>0.933048433048433</li><li>0.93019943019943</li><li>0.928774928774929</li><li>0.941595441595442</li><li>0.937321937321937</li><li>0.91025641025641</li><li>0.925925925925926</li><li>0.93019943019943</li><li>0.923076923076923</li><li>0.918803418803419</li><li>0.898860398860399</li><li>0.924501424501424</li><li>0.944444444444444</li><li>0.931623931623932</li><li>0.923076923076923</li><li>0.92022792022792</li><li>0.93019943019943</li><li>0.901709401709402</li><li>0.927350427350427</li><li>0.901709401709402</li><li>0.925925925925926</li><li>0.921652421652422</li><li>0.923076923076923</li><li>0.925925925925926</li><li>0.93019943019943</li><li>0.943019943019943</li><li>0.91025641025641</li><li>0.903133903133903</li><li>0.928774928774929</li><li>0.923076923076923</li><li>0.905982905982906</li><li>0.924501424501424</li><li>0.91025641025641</li><li>0.927350427350427</li><li>0.934472934472934</li><li>0.92022792022792</li><li>0.928774928774929</li><li>0.935897435897436</li><li>0.915954415954416</li><li>0.934472934472934</li><li>0.928774928774929</li><li>0.915954415954416</li><li>0.924501424501424</li><li>0.914529914529915</li><li>0.921652421652422</li><li>0.924501424501424</li><li>0.915954415954416</li><li>0.925925925925926</li><li>0.905982905982906</li></ol>\n"
            ],
            "text/markdown": "1. 0.917378917378917\n2. 0.935897435897436\n3. 0.905982905982906\n4. 0.914529914529915\n5. 0.917378917378917\n6. 0.904558404558405\n7. 0.917378917378917\n8. 0.93019943019943\n9. 0.923076923076923\n10. 0.941595441595442\n11. 0.925925925925926\n12. 0.931623931623932\n13. 0.908831908831909\n14. 0.913105413105413\n15. 0.925925925925926\n16. 0.933048433048433\n17. 0.943019943019943\n18. 0.911680911680912\n19. 0.934472934472934\n20. 0.923076923076923\n21. 0.928774928774929\n22. 0.928774928774929\n23. 0.917378917378917\n24. 0.913105413105413\n25. 0.925925925925926\n26. 0.928774928774929\n27. 0.92022792022792\n28. 0.911680911680912\n29. 0.917378917378917\n30. 0.913105413105413\n31. 0.915954415954416\n32. 0.914529914529915\n33. 0.898860398860399\n34. 0.92022792022792\n35. 0.893162393162393\n36. 0.901709401709402\n37. 0.928774928774929\n38. 0.951566951566952\n39. 0.93019943019943\n40. 0.93019943019943\n41. 0.905982905982906\n42. 0.933048433048433\n43. 0.92022792022792\n44. 0.93019943019943\n45. 0.923076923076923\n46. 0.92022792022792\n47. 0.914529914529915\n48. 0.931623931623932\n49. 0.917378917378917\n50. 0.92022792022792\n51. 0.911680911680912\n52. 0.933048433048433\n53. 0.93019943019943\n54. 0.928774928774929\n55. 0.941595441595442\n56. 0.937321937321937\n57. 0.91025641025641\n58. 0.925925925925926\n59. 0.93019943019943\n60. 0.923076923076923\n61. 0.918803418803419\n62. 0.898860398860399\n63. 0.924501424501424\n64. 0.944444444444444\n65. 0.931623931623932\n66. 0.923076923076923\n67. 0.92022792022792\n68. 0.93019943019943\n69. 0.901709401709402\n70. 0.927350427350427\n71. 0.901709401709402\n72. 0.925925925925926\n73. 0.921652421652422\n74. 0.923076923076923\n75. 0.925925925925926\n76. 0.93019943019943\n77. 0.943019943019943\n78. 0.91025641025641\n79. 0.903133903133903\n80. 0.928774928774929\n81. 0.923076923076923\n82. 0.905982905982906\n83. 0.924501424501424\n84. 0.91025641025641\n85. 0.927350427350427\n86. 0.934472934472934\n87. 0.92022792022792\n88. 0.928774928774929\n89. 0.935897435897436\n90. 0.915954415954416\n91. 0.934472934472934\n92. 0.928774928774929\n93. 0.915954415954416\n94. 0.924501424501424\n95. 0.914529914529915\n96. 0.921652421652422\n97. 0.924501424501424\n98. 0.915954415954416\n99. 0.925925925925926\n100. 0.905982905982906\n\n\n",
            "text/latex": "\\begin{enumerate*}\n\\item 0.917378917378917\n\\item 0.935897435897436\n\\item 0.905982905982906\n\\item 0.914529914529915\n\\item 0.917378917378917\n\\item 0.904558404558405\n\\item 0.917378917378917\n\\item 0.93019943019943\n\\item 0.923076923076923\n\\item 0.941595441595442\n\\item 0.925925925925926\n\\item 0.931623931623932\n\\item 0.908831908831909\n\\item 0.913105413105413\n\\item 0.925925925925926\n\\item 0.933048433048433\n\\item 0.943019943019943\n\\item 0.911680911680912\n\\item 0.934472934472934\n\\item 0.923076923076923\n\\item 0.928774928774929\n\\item 0.928774928774929\n\\item 0.917378917378917\n\\item 0.913105413105413\n\\item 0.925925925925926\n\\item 0.928774928774929\n\\item 0.92022792022792\n\\item 0.911680911680912\n\\item 0.917378917378917\n\\item 0.913105413105413\n\\item 0.915954415954416\n\\item 0.914529914529915\n\\item 0.898860398860399\n\\item 0.92022792022792\n\\item 0.893162393162393\n\\item 0.901709401709402\n\\item 0.928774928774929\n\\item 0.951566951566952\n\\item 0.93019943019943\n\\item 0.93019943019943\n\\item 0.905982905982906\n\\item 0.933048433048433\n\\item 0.92022792022792\n\\item 0.93019943019943\n\\item 0.923076923076923\n\\item 0.92022792022792\n\\item 0.914529914529915\n\\item 0.931623931623932\n\\item 0.917378917378917\n\\item 0.92022792022792\n\\item 0.911680911680912\n\\item 0.933048433048433\n\\item 0.93019943019943\n\\item 0.928774928774929\n\\item 0.941595441595442\n\\item 0.937321937321937\n\\item 0.91025641025641\n\\item 0.925925925925926\n\\item 0.93019943019943\n\\item 0.923076923076923\n\\item 0.918803418803419\n\\item 0.898860398860399\n\\item 0.924501424501424\n\\item 0.944444444444444\n\\item 0.931623931623932\n\\item 0.923076923076923\n\\item 0.92022792022792\n\\item 0.93019943019943\n\\item 0.901709401709402\n\\item 0.927350427350427\n\\item 0.901709401709402\n\\item 0.925925925925926\n\\item 0.921652421652422\n\\item 0.923076923076923\n\\item 0.925925925925926\n\\item 0.93019943019943\n\\item 0.943019943019943\n\\item 0.91025641025641\n\\item 0.903133903133903\n\\item 0.928774928774929\n\\item 0.923076923076923\n\\item 0.905982905982906\n\\item 0.924501424501424\n\\item 0.91025641025641\n\\item 0.927350427350427\n\\item 0.934472934472934\n\\item 0.92022792022792\n\\item 0.928774928774929\n\\item 0.935897435897436\n\\item 0.915954415954416\n\\item 0.934472934472934\n\\item 0.928774928774929\n\\item 0.915954415954416\n\\item 0.924501424501424\n\\item 0.914529914529915\n\\item 0.921652421652422\n\\item 0.924501424501424\n\\item 0.915954415954416\n\\item 0.925925925925926\n\\item 0.905982905982906\n\\end{enumerate*}\n",
            "text/plain": [
              "  [1] 0.9173789 0.9358974 0.9059829 0.9145299 0.9173789 0.9045584 0.9173789\n",
              "  [8] 0.9301994 0.9230769 0.9415954 0.9259259 0.9316239 0.9088319 0.9131054\n",
              " [15] 0.9259259 0.9330484 0.9430199 0.9116809 0.9344729 0.9230769 0.9287749\n",
              " [22] 0.9287749 0.9173789 0.9131054 0.9259259 0.9287749 0.9202279 0.9116809\n",
              " [29] 0.9173789 0.9131054 0.9159544 0.9145299 0.8988604 0.9202279 0.8931624\n",
              " [36] 0.9017094 0.9287749 0.9515670 0.9301994 0.9301994 0.9059829 0.9330484\n",
              " [43] 0.9202279 0.9301994 0.9230769 0.9202279 0.9145299 0.9316239 0.9173789\n",
              " [50] 0.9202279 0.9116809 0.9330484 0.9301994 0.9287749 0.9415954 0.9373219\n",
              " [57] 0.9102564 0.9259259 0.9301994 0.9230769 0.9188034 0.8988604 0.9245014\n",
              " [64] 0.9444444 0.9316239 0.9230769 0.9202279 0.9301994 0.9017094 0.9273504\n",
              " [71] 0.9017094 0.9259259 0.9216524 0.9230769 0.9259259 0.9301994 0.9430199\n",
              " [78] 0.9102564 0.9031339 0.9287749 0.9230769 0.9059829 0.9245014 0.9102564\n",
              " [85] 0.9273504 0.9344729 0.9202279 0.9287749 0.9358974 0.9159544 0.9344729\n",
              " [92] 0.9287749 0.9159544 0.9245014 0.9145299 0.9216524 0.9245014 0.9159544\n",
              " [99] 0.9259259 0.9059829"
            ]
          },
          "metadata": {}
        }
      ]
    },
    {
      "cell_type": "code",
      "source": [
        "mean(AciertoRF)"
      ],
      "metadata": {
        "colab": {
          "base_uri": "https://localhost:8080/",
          "height": 34
        },
        "id": "TJaLL7GT0rrY",
        "outputId": "b852200b-9975-4153-e63e-b1b51eb57338"
      },
      "execution_count": null,
      "outputs": [
        {
          "output_type": "display_data",
          "data": {
            "text/html": [
              "0.922108262108262"
            ],
            "text/markdown": "0.922108262108262",
            "text/latex": "0.922108262108262",
            "text/plain": [
              "[1] 0.9221083"
            ]
          },
          "metadata": {}
        }
      ]
    },
    {
      "cell_type": "code",
      "source": [
        "ErroresRF"
      ],
      "metadata": {
        "colab": {
          "base_uri": "https://localhost:8080/",
          "height": 191
        },
        "id": "6o-uZJFd1Xic",
        "outputId": "3481b3f7-ff41-4760-aa9b-decf8e52ad84"
      },
      "execution_count": null,
      "outputs": [
        {
          "output_type": "display_data",
          "data": {
            "text/html": [
              "<style>\n",
              ".list-inline {list-style: none; margin:0; padding: 0}\n",
              ".list-inline>li {display: inline-block}\n",
              ".list-inline>li:not(:last-child)::after {content: \"\\00b7\"; padding: 0 .5ex}\n",
              "</style>\n",
              "<ol class=list-inline><li>0.0826210826210826</li><li>0.0641025641025641</li><li>0.094017094017094</li><li>0.0854700854700855</li><li>0.0826210826210826</li><li>0.0954415954415954</li><li>0.0826210826210826</li><li>0.0698005698005698</li><li>0.0769230769230769</li><li>0.0584045584045584</li><li>0.0740740740740741</li><li>0.0683760683760684</li><li>0.0911680911680912</li><li>0.0868945868945869</li><li>0.0740740740740741</li><li>0.066951566951567</li><li>0.056980056980057</li><li>0.0883190883190883</li><li>0.0655270655270655</li><li>0.0769230769230769</li><li>0.0712250712250712</li><li>0.0712250712250712</li><li>0.0826210826210826</li><li>0.0868945868945869</li><li>0.0740740740740741</li><li>0.0712250712250712</li><li>0.0797720797720798</li><li>0.0883190883190883</li><li>0.0826210826210826</li><li>0.0868945868945869</li><li>0.084045584045584</li><li>0.0854700854700855</li><li>0.101139601139601</li><li>0.0797720797720798</li><li>0.106837606837607</li><li>0.0982905982905983</li><li>0.0712250712250712</li><li>0.0484330484330484</li><li>0.0698005698005698</li><li>0.0698005698005698</li><li>0.094017094017094</li><li>0.066951566951567</li><li>0.0797720797720798</li><li>0.0698005698005698</li><li>0.0769230769230769</li><li>0.0797720797720798</li><li>0.0854700854700855</li><li>0.0683760683760684</li><li>0.0826210826210826</li><li>0.0797720797720798</li><li>0.0883190883190883</li><li>0.066951566951567</li><li>0.0698005698005698</li><li>0.0712250712250712</li><li>0.0584045584045584</li><li>0.0626780626780627</li><li>0.0897435897435897</li><li>0.0740740740740741</li><li>0.0698005698005698</li><li>0.0769230769230769</li><li>0.0811965811965812</li><li>0.101139601139601</li><li>0.0754985754985755</li><li>0.0555555555555556</li><li>0.0683760683760684</li><li>0.0769230769230769</li><li>0.0797720797720798</li><li>0.0698005698005698</li><li>0.0982905982905983</li><li>0.0726495726495727</li><li>0.0982905982905983</li><li>0.0740740740740741</li><li>0.0783475783475783</li><li>0.0769230769230769</li><li>0.0740740740740741</li><li>0.0698005698005698</li><li>0.056980056980057</li><li>0.0897435897435897</li><li>0.0968660968660969</li><li>0.0712250712250712</li><li>0.0769230769230769</li><li>0.094017094017094</li><li>0.0754985754985755</li><li>0.0897435897435897</li><li>0.0726495726495727</li><li>0.0655270655270655</li><li>0.0797720797720798</li><li>0.0712250712250712</li><li>0.0641025641025641</li><li>0.084045584045584</li><li>0.0655270655270655</li><li>0.0712250712250712</li><li>0.084045584045584</li><li>0.0754985754985755</li><li>0.0854700854700855</li><li>0.0783475783475783</li><li>0.0754985754985755</li><li>0.084045584045584</li><li>0.0740740740740741</li><li>0.094017094017094</li></ol>\n"
            ],
            "text/markdown": "1. 0.0826210826210826\n2. 0.0641025641025641\n3. 0.094017094017094\n4. 0.0854700854700855\n5. 0.0826210826210826\n6. 0.0954415954415954\n7. 0.0826210826210826\n8. 0.0698005698005698\n9. 0.0769230769230769\n10. 0.0584045584045584\n11. 0.0740740740740741\n12. 0.0683760683760684\n13. 0.0911680911680912\n14. 0.0868945868945869\n15. 0.0740740740740741\n16. 0.066951566951567\n17. 0.056980056980057\n18. 0.0883190883190883\n19. 0.0655270655270655\n20. 0.0769230769230769\n21. 0.0712250712250712\n22. 0.0712250712250712\n23. 0.0826210826210826\n24. 0.0868945868945869\n25. 0.0740740740740741\n26. 0.0712250712250712\n27. 0.0797720797720798\n28. 0.0883190883190883\n29. 0.0826210826210826\n30. 0.0868945868945869\n31. 0.084045584045584\n32. 0.0854700854700855\n33. 0.101139601139601\n34. 0.0797720797720798\n35. 0.106837606837607\n36. 0.0982905982905983\n37. 0.0712250712250712\n38. 0.0484330484330484\n39. 0.0698005698005698\n40. 0.0698005698005698\n41. 0.094017094017094\n42. 0.066951566951567\n43. 0.0797720797720798\n44. 0.0698005698005698\n45. 0.0769230769230769\n46. 0.0797720797720798\n47. 0.0854700854700855\n48. 0.0683760683760684\n49. 0.0826210826210826\n50. 0.0797720797720798\n51. 0.0883190883190883\n52. 0.066951566951567\n53. 0.0698005698005698\n54. 0.0712250712250712\n55. 0.0584045584045584\n56. 0.0626780626780627\n57. 0.0897435897435897\n58. 0.0740740740740741\n59. 0.0698005698005698\n60. 0.0769230769230769\n61. 0.0811965811965812\n62. 0.101139601139601\n63. 0.0754985754985755\n64. 0.0555555555555556\n65. 0.0683760683760684\n66. 0.0769230769230769\n67. 0.0797720797720798\n68. 0.0698005698005698\n69. 0.0982905982905983\n70. 0.0726495726495727\n71. 0.0982905982905983\n72. 0.0740740740740741\n73. 0.0783475783475783\n74. 0.0769230769230769\n75. 0.0740740740740741\n76. 0.0698005698005698\n77. 0.056980056980057\n78. 0.0897435897435897\n79. 0.0968660968660969\n80. 0.0712250712250712\n81. 0.0769230769230769\n82. 0.094017094017094\n83. 0.0754985754985755\n84. 0.0897435897435897\n85. 0.0726495726495727\n86. 0.0655270655270655\n87. 0.0797720797720798\n88. 0.0712250712250712\n89. 0.0641025641025641\n90. 0.084045584045584\n91. 0.0655270655270655\n92. 0.0712250712250712\n93. 0.084045584045584\n94. 0.0754985754985755\n95. 0.0854700854700855\n96. 0.0783475783475783\n97. 0.0754985754985755\n98. 0.084045584045584\n99. 0.0740740740740741\n100. 0.094017094017094\n\n\n",
            "text/latex": "\\begin{enumerate*}\n\\item 0.0826210826210826\n\\item 0.0641025641025641\n\\item 0.094017094017094\n\\item 0.0854700854700855\n\\item 0.0826210826210826\n\\item 0.0954415954415954\n\\item 0.0826210826210826\n\\item 0.0698005698005698\n\\item 0.0769230769230769\n\\item 0.0584045584045584\n\\item 0.0740740740740741\n\\item 0.0683760683760684\n\\item 0.0911680911680912\n\\item 0.0868945868945869\n\\item 0.0740740740740741\n\\item 0.066951566951567\n\\item 0.056980056980057\n\\item 0.0883190883190883\n\\item 0.0655270655270655\n\\item 0.0769230769230769\n\\item 0.0712250712250712\n\\item 0.0712250712250712\n\\item 0.0826210826210826\n\\item 0.0868945868945869\n\\item 0.0740740740740741\n\\item 0.0712250712250712\n\\item 0.0797720797720798\n\\item 0.0883190883190883\n\\item 0.0826210826210826\n\\item 0.0868945868945869\n\\item 0.084045584045584\n\\item 0.0854700854700855\n\\item 0.101139601139601\n\\item 0.0797720797720798\n\\item 0.106837606837607\n\\item 0.0982905982905983\n\\item 0.0712250712250712\n\\item 0.0484330484330484\n\\item 0.0698005698005698\n\\item 0.0698005698005698\n\\item 0.094017094017094\n\\item 0.066951566951567\n\\item 0.0797720797720798\n\\item 0.0698005698005698\n\\item 0.0769230769230769\n\\item 0.0797720797720798\n\\item 0.0854700854700855\n\\item 0.0683760683760684\n\\item 0.0826210826210826\n\\item 0.0797720797720798\n\\item 0.0883190883190883\n\\item 0.066951566951567\n\\item 0.0698005698005698\n\\item 0.0712250712250712\n\\item 0.0584045584045584\n\\item 0.0626780626780627\n\\item 0.0897435897435897\n\\item 0.0740740740740741\n\\item 0.0698005698005698\n\\item 0.0769230769230769\n\\item 0.0811965811965812\n\\item 0.101139601139601\n\\item 0.0754985754985755\n\\item 0.0555555555555556\n\\item 0.0683760683760684\n\\item 0.0769230769230769\n\\item 0.0797720797720798\n\\item 0.0698005698005698\n\\item 0.0982905982905983\n\\item 0.0726495726495727\n\\item 0.0982905982905983\n\\item 0.0740740740740741\n\\item 0.0783475783475783\n\\item 0.0769230769230769\n\\item 0.0740740740740741\n\\item 0.0698005698005698\n\\item 0.056980056980057\n\\item 0.0897435897435897\n\\item 0.0968660968660969\n\\item 0.0712250712250712\n\\item 0.0769230769230769\n\\item 0.094017094017094\n\\item 0.0754985754985755\n\\item 0.0897435897435897\n\\item 0.0726495726495727\n\\item 0.0655270655270655\n\\item 0.0797720797720798\n\\item 0.0712250712250712\n\\item 0.0641025641025641\n\\item 0.084045584045584\n\\item 0.0655270655270655\n\\item 0.0712250712250712\n\\item 0.084045584045584\n\\item 0.0754985754985755\n\\item 0.0854700854700855\n\\item 0.0783475783475783\n\\item 0.0754985754985755\n\\item 0.084045584045584\n\\item 0.0740740740740741\n\\item 0.094017094017094\n\\end{enumerate*}\n",
            "text/plain": [
              "  [1] 0.08262108 0.06410256 0.09401709 0.08547009 0.08262108 0.09544160\n",
              "  [7] 0.08262108 0.06980057 0.07692308 0.05840456 0.07407407 0.06837607\n",
              " [13] 0.09116809 0.08689459 0.07407407 0.06695157 0.05698006 0.08831909\n",
              " [19] 0.06552707 0.07692308 0.07122507 0.07122507 0.08262108 0.08689459\n",
              " [25] 0.07407407 0.07122507 0.07977208 0.08831909 0.08262108 0.08689459\n",
              " [31] 0.08404558 0.08547009 0.10113960 0.07977208 0.10683761 0.09829060\n",
              " [37] 0.07122507 0.04843305 0.06980057 0.06980057 0.09401709 0.06695157\n",
              " [43] 0.07977208 0.06980057 0.07692308 0.07977208 0.08547009 0.06837607\n",
              " [49] 0.08262108 0.07977208 0.08831909 0.06695157 0.06980057 0.07122507\n",
              " [55] 0.05840456 0.06267806 0.08974359 0.07407407 0.06980057 0.07692308\n",
              " [61] 0.08119658 0.10113960 0.07549858 0.05555556 0.06837607 0.07692308\n",
              " [67] 0.07977208 0.06980057 0.09829060 0.07264957 0.09829060 0.07407407\n",
              " [73] 0.07834758 0.07692308 0.07407407 0.06980057 0.05698006 0.08974359\n",
              " [79] 0.09686610 0.07122507 0.07692308 0.09401709 0.07549858 0.08974359\n",
              " [85] 0.07264957 0.06552707 0.07977208 0.07122507 0.06410256 0.08404558\n",
              " [91] 0.06552707 0.07122507 0.08404558 0.07549858 0.08547009 0.07834758\n",
              " [97] 0.07549858 0.08404558 0.07407407 0.09401709"
            ]
          },
          "metadata": {}
        }
      ]
    },
    {
      "cell_type": "code",
      "source": [
        "mean(ErroresRF)"
      ],
      "metadata": {
        "colab": {
          "base_uri": "https://localhost:8080/",
          "height": 34
        },
        "id": "w78HntLy1aao",
        "outputId": "78ffa056-1c96-47e3-bcd2-8cbb1514ddcf"
      },
      "execution_count": null,
      "outputs": [
        {
          "output_type": "display_data",
          "data": {
            "text/html": [
              "0.0778917378917379"
            ],
            "text/markdown": "0.0778917378917379",
            "text/latex": "0.0778917378917379",
            "text/plain": [
              "[1] 0.07789174"
            ]
          },
          "metadata": {}
        }
      ]
    },
    {
      "cell_type": "markdown",
      "source": [
        "Para **SVM** el codigo quedaria de la siguiente manera:"
      ],
      "metadata": {
        "id": "kjuqSG6ZvgoN"
      }
    },
    {
      "cell_type": "code",
      "source": [
        "# Inicializamos para almacenar resultados\n",
        "AciertoSVM <- numeric(100)\n",
        "ErroresSVM<-numeric(100)\n",
        "ModelosSVM<-list()\n",
        "PrediccionSVM<-list()\n",
        "\n",
        "# Realizamos 100 corridas\n",
        "for (i in 1:100) {\n",
        "\n",
        "  # Dividimos los datos en conjuntos de entrenamiento y prueba\n",
        "  set.seed(i)  # Cambia la semilla en cada iteración para obtener diferentes conjuntos de entrenamiento y prueba\n",
        "  indices <- sample(1:nrow(princess_df), 0.7 * nrow(princess_df))\n",
        "  diagonal_train <- princess_df[indices, ]\n",
        "  diagonal_test <- princess_df[-indices, ]\n",
        "\n",
        "  # Convertimos la variable de respuesta a factor si no lo es\n",
        "  diagonal_train$Cured <- as.factor(diagonal_train$Cured)\n",
        "  diagonal_test$Cured <- as.factor(diagonal_test$Cured)\n",
        "\n",
        "  # Entrenamos un modelo SVM\n",
        "  ModelosSVM <- svm(Cured ~ ., data = diagonal_train, type = \"C\")\n",
        "  PrediccionSVM <- predict(ModelosSVM, newdata = diagonal_test)\n",
        "\n",
        "  # Evaluamos el rendimiento del modelo\n",
        "  ErroresSVM[i] <- sum(PrediccionSVM != diagonal_test$Cured) / length(diagonal_test$Cured)\n",
        "  AciertoSVM[i] <- 1 - ErroresSVM[i]\n",
        "}\n",
        "\n",
        "# Guardamos resultados\n",
        "save(AciertoSVM, ErroresSVM, file = \"resultados_svm.Rdata\")\n"
      ],
      "metadata": {
        "id": "i-I1rRODuC1T"
      },
      "execution_count": null,
      "outputs": []
    },
    {
      "cell_type": "markdown",
      "source": [
        "Los mostramos a continuacion los resultados:"
      ],
      "metadata": {
        "id": "5sWGqYhC2N8W"
      }
    },
    {
      "cell_type": "code",
      "source": [
        "head(diagonal_test)"
      ],
      "metadata": {
        "colab": {
          "base_uri": "https://localhost:8080/",
          "height": 286
        },
        "id": "RigHDlXr2don",
        "outputId": "30fe83cd-81ae-4842-baa7-cc9611758398"
      },
      "execution_count": null,
      "outputs": [
        {
          "output_type": "display_data",
          "data": {
            "text/html": [
              "<table class=\"dataframe\">\n",
              "<caption>A data.frame: 6 × 14</caption>\n",
              "<thead>\n",
              "\t<tr><th></th><th scope=col>Phoenix.Feather</th><th scope=col>Unicorn.Horn</th><th scope=col>Dragon.s.Blood</th><th scope=col>Mermaid.Tears</th><th scope=col>Fairy.Dust</th><th scope=col>Goblin.Toes</th><th scope=col>Witch.s.Brew</th><th scope=col>Griffin.Claw</th><th scope=col>Troll.Hair</th><th scope=col>Kraken.Ink</th><th scope=col>Minotaur.Horn</th><th scope=col>Basilisk.Scale</th><th scope=col>Chimera.Fang</th><th scope=col>Cured</th></tr>\n",
              "\t<tr><th></th><th scope=col>&lt;dbl&gt;</th><th scope=col>&lt;dbl&gt;</th><th scope=col>&lt;dbl&gt;</th><th scope=col>&lt;dbl&gt;</th><th scope=col>&lt;dbl&gt;</th><th scope=col>&lt;dbl&gt;</th><th scope=col>&lt;dbl&gt;</th><th scope=col>&lt;dbl&gt;</th><th scope=col>&lt;dbl&gt;</th><th scope=col>&lt;dbl&gt;</th><th scope=col>&lt;dbl&gt;</th><th scope=col>&lt;dbl&gt;</th><th scope=col>&lt;dbl&gt;</th><th scope=col>&lt;fct&gt;</th></tr>\n",
              "</thead>\n",
              "<tbody>\n",
              "\t<tr><th scope=row>8</th><td>16.4</td><td>12.1</td><td>14.2</td><td>22.0</td><td>15.6</td><td>10.4</td><td>11.7</td><td>18.4</td><td>21.0</td><td>20.3</td><td> 4.0</td><td>15.7</td><td>15.3</td><td>0</td></tr>\n",
              "\t<tr><th scope=row>9</th><td>28.4</td><td>18.9</td><td>30.3</td><td> 5.6</td><td>18.0</td><td> 9.9</td><td> 6.2</td><td>24.4</td><td>14.4</td><td> 2.7</td><td>15.1</td><td>41.6</td><td> 7.0</td><td>0</td></tr>\n",
              "\t<tr><th scope=row>10</th><td>11.8</td><td>17.7</td><td> 8.8</td><td>22.9</td><td> 6.1</td><td> 5.8</td><td>15.7</td><td> 2.6</td><td>16.5</td><td>23.7</td><td>25.2</td><td> 1.7</td><td> 1.1</td><td>1</td></tr>\n",
              "\t<tr><th scope=row>19</th><td>19.1</td><td>12.2</td><td>19.6</td><td>22.6</td><td>30.7</td><td> 3.3</td><td>36.1</td><td>14.7</td><td>14.3</td><td>25.9</td><td> 9.9</td><td>20.7</td><td>14.2</td><td>1</td></tr>\n",
              "\t<tr><th scope=row>22</th><td>15.8</td><td> 3.2</td><td>15.6</td><td> 5.2</td><td>16.0</td><td>20.0</td><td>12.6</td><td>16.6</td><td> 8.6</td><td>10.9</td><td>25.7</td><td>17.5</td><td> 6.4</td><td>0</td></tr>\n",
              "\t<tr><th scope=row>27</th><td> 6.3</td><td>10.9</td><td>12.5</td><td>21.9</td><td>20.8</td><td> 6.3</td><td>18.9</td><td>17.9</td><td> 4.2</td><td>19.4</td><td> 3.4</td><td>15.8</td><td>13.9</td><td>0</td></tr>\n",
              "</tbody>\n",
              "</table>\n"
            ],
            "text/markdown": "\nA data.frame: 6 × 14\n\n| <!--/--> | Phoenix.Feather &lt;dbl&gt; | Unicorn.Horn &lt;dbl&gt; | Dragon.s.Blood &lt;dbl&gt; | Mermaid.Tears &lt;dbl&gt; | Fairy.Dust &lt;dbl&gt; | Goblin.Toes &lt;dbl&gt; | Witch.s.Brew &lt;dbl&gt; | Griffin.Claw &lt;dbl&gt; | Troll.Hair &lt;dbl&gt; | Kraken.Ink &lt;dbl&gt; | Minotaur.Horn &lt;dbl&gt; | Basilisk.Scale &lt;dbl&gt; | Chimera.Fang &lt;dbl&gt; | Cured &lt;fct&gt; |\n|---|---|---|---|---|---|---|---|---|---|---|---|---|---|---|\n| 8 | 16.4 | 12.1 | 14.2 | 22.0 | 15.6 | 10.4 | 11.7 | 18.4 | 21.0 | 20.3 |  4.0 | 15.7 | 15.3 | 0 |\n| 9 | 28.4 | 18.9 | 30.3 |  5.6 | 18.0 |  9.9 |  6.2 | 24.4 | 14.4 |  2.7 | 15.1 | 41.6 |  7.0 | 0 |\n| 10 | 11.8 | 17.7 |  8.8 | 22.9 |  6.1 |  5.8 | 15.7 |  2.6 | 16.5 | 23.7 | 25.2 |  1.7 |  1.1 | 1 |\n| 19 | 19.1 | 12.2 | 19.6 | 22.6 | 30.7 |  3.3 | 36.1 | 14.7 | 14.3 | 25.9 |  9.9 | 20.7 | 14.2 | 1 |\n| 22 | 15.8 |  3.2 | 15.6 |  5.2 | 16.0 | 20.0 | 12.6 | 16.6 |  8.6 | 10.9 | 25.7 | 17.5 |  6.4 | 0 |\n| 27 |  6.3 | 10.9 | 12.5 | 21.9 | 20.8 |  6.3 | 18.9 | 17.9 |  4.2 | 19.4 |  3.4 | 15.8 | 13.9 | 0 |\n\n",
            "text/latex": "A data.frame: 6 × 14\n\\begin{tabular}{r|llllllllllllll}\n  & Phoenix.Feather & Unicorn.Horn & Dragon.s.Blood & Mermaid.Tears & Fairy.Dust & Goblin.Toes & Witch.s.Brew & Griffin.Claw & Troll.Hair & Kraken.Ink & Minotaur.Horn & Basilisk.Scale & Chimera.Fang & Cured\\\\\n  & <dbl> & <dbl> & <dbl> & <dbl> & <dbl> & <dbl> & <dbl> & <dbl> & <dbl> & <dbl> & <dbl> & <dbl> & <dbl> & <fct>\\\\\n\\hline\n\t8 & 16.4 & 12.1 & 14.2 & 22.0 & 15.6 & 10.4 & 11.7 & 18.4 & 21.0 & 20.3 &  4.0 & 15.7 & 15.3 & 0\\\\\n\t9 & 28.4 & 18.9 & 30.3 &  5.6 & 18.0 &  9.9 &  6.2 & 24.4 & 14.4 &  2.7 & 15.1 & 41.6 &  7.0 & 0\\\\\n\t10 & 11.8 & 17.7 &  8.8 & 22.9 &  6.1 &  5.8 & 15.7 &  2.6 & 16.5 & 23.7 & 25.2 &  1.7 &  1.1 & 1\\\\\n\t19 & 19.1 & 12.2 & 19.6 & 22.6 & 30.7 &  3.3 & 36.1 & 14.7 & 14.3 & 25.9 &  9.9 & 20.7 & 14.2 & 1\\\\\n\t22 & 15.8 &  3.2 & 15.6 &  5.2 & 16.0 & 20.0 & 12.6 & 16.6 &  8.6 & 10.9 & 25.7 & 17.5 &  6.4 & 0\\\\\n\t27 &  6.3 & 10.9 & 12.5 & 21.9 & 20.8 &  6.3 & 18.9 & 17.9 &  4.2 & 19.4 &  3.4 & 15.8 & 13.9 & 0\\\\\n\\end{tabular}\n",
            "text/plain": [
              "   Phoenix.Feather Unicorn.Horn Dragon.s.Blood Mermaid.Tears Fairy.Dust\n",
              "8  16.4            12.1         14.2           22.0          15.6      \n",
              "9  28.4            18.9         30.3            5.6          18.0      \n",
              "10 11.8            17.7          8.8           22.9           6.1      \n",
              "19 19.1            12.2         19.6           22.6          30.7      \n",
              "22 15.8             3.2         15.6            5.2          16.0      \n",
              "27  6.3            10.9         12.5           21.9          20.8      \n",
              "   Goblin.Toes Witch.s.Brew Griffin.Claw Troll.Hair Kraken.Ink Minotaur.Horn\n",
              "8  10.4        11.7         18.4         21.0       20.3        4.0         \n",
              "9   9.9         6.2         24.4         14.4        2.7       15.1         \n",
              "10  5.8        15.7          2.6         16.5       23.7       25.2         \n",
              "19  3.3        36.1         14.7         14.3       25.9        9.9         \n",
              "22 20.0        12.6         16.6          8.6       10.9       25.7         \n",
              "27  6.3        18.9         17.9          4.2       19.4        3.4         \n",
              "   Basilisk.Scale Chimera.Fang Cured\n",
              "8  15.7           15.3         0    \n",
              "9  41.6            7.0         0    \n",
              "10  1.7            1.1         1    \n",
              "19 20.7           14.2         1    \n",
              "22 17.5            6.4         0    \n",
              "27 15.8           13.9         0    "
            ]
          },
          "metadata": {}
        }
      ]
    },
    {
      "cell_type": "code",
      "source": [
        "head(diagonal_train)"
      ],
      "metadata": {
        "colab": {
          "base_uri": "https://localhost:8080/",
          "height": 286
        },
        "id": "JP8UeZx-2kVU",
        "outputId": "0d4890ec-5240-4a87-b8d9-62f2c7f6d2f5"
      },
      "execution_count": null,
      "outputs": [
        {
          "output_type": "display_data",
          "data": {
            "text/html": [
              "<table class=\"dataframe\">\n",
              "<caption>A data.frame: 6 × 14</caption>\n",
              "<thead>\n",
              "\t<tr><th></th><th scope=col>Phoenix.Feather</th><th scope=col>Unicorn.Horn</th><th scope=col>Dragon.s.Blood</th><th scope=col>Mermaid.Tears</th><th scope=col>Fairy.Dust</th><th scope=col>Goblin.Toes</th><th scope=col>Witch.s.Brew</th><th scope=col>Griffin.Claw</th><th scope=col>Troll.Hair</th><th scope=col>Kraken.Ink</th><th scope=col>Minotaur.Horn</th><th scope=col>Basilisk.Scale</th><th scope=col>Chimera.Fang</th><th scope=col>Cured</th></tr>\n",
              "\t<tr><th></th><th scope=col>&lt;dbl&gt;</th><th scope=col>&lt;dbl&gt;</th><th scope=col>&lt;dbl&gt;</th><th scope=col>&lt;dbl&gt;</th><th scope=col>&lt;dbl&gt;</th><th scope=col>&lt;dbl&gt;</th><th scope=col>&lt;dbl&gt;</th><th scope=col>&lt;dbl&gt;</th><th scope=col>&lt;dbl&gt;</th><th scope=col>&lt;dbl&gt;</th><th scope=col>&lt;dbl&gt;</th><th scope=col>&lt;dbl&gt;</th><th scope=col>&lt;dbl&gt;</th><th scope=col>&lt;fct&gt;</th></tr>\n",
              "</thead>\n",
              "<tbody>\n",
              "\t<tr><th scope=row>503</th><td>19.8</td><td>17.5</td><td>14.0</td><td>10.8</td><td>30.5</td><td>14.7</td><td>13.8</td><td>36.7</td><td>15.7</td><td> 5.7</td><td> 9.7</td><td> 4.1</td><td> 1.8</td><td>1</td></tr>\n",
              "\t<tr><th scope=row>2035</th><td> 6.4</td><td> 8.4</td><td> 7.6</td><td>24.0</td><td>11.1</td><td> 8.2</td><td>19.2</td><td>22.7</td><td> 7.3</td><td>21.6</td><td>12.5</td><td>28.0</td><td>14.3</td><td>0</td></tr>\n",
              "\t<tr><th scope=row>470</th><td>16.3</td><td> 5.6</td><td>25.8</td><td>12.9</td><td>13.8</td><td> 5.0</td><td> 7.8</td><td>19.9</td><td>11.2</td><td>13.5</td><td>20.0</td><td>27.4</td><td>19.0</td><td>0</td></tr>\n",
              "\t<tr><th scope=row>1990</th><td>26.7</td><td> 6.2</td><td>18.1</td><td> 5.8</td><td>12.4</td><td> 5.4</td><td> 1.7</td><td>15.4</td><td>26.1</td><td>30.8</td><td>17.2</td><td>12.3</td><td>35.8</td><td>1</td></tr>\n",
              "\t<tr><th scope=row>1540</th><td> 5.5</td><td>21.9</td><td>21.0</td><td>13.0</td><td> 7.2</td><td>10.4</td><td> 2.3</td><td>14.8</td><td> 2.1</td><td>18.4</td><td> 9.9</td><td> 8.4</td><td>25.6</td><td>0</td></tr>\n",
              "\t<tr><th scope=row>823</th><td>15.7</td><td> 8.1</td><td> 7.0</td><td>13.2</td><td>24.4</td><td>19.4</td><td>19.5</td><td>17.7</td><td>15.1</td><td>15.0</td><td>13.0</td><td> 7.4</td><td>30.6</td><td>1</td></tr>\n",
              "</tbody>\n",
              "</table>\n"
            ],
            "text/markdown": "\nA data.frame: 6 × 14\n\n| <!--/--> | Phoenix.Feather &lt;dbl&gt; | Unicorn.Horn &lt;dbl&gt; | Dragon.s.Blood &lt;dbl&gt; | Mermaid.Tears &lt;dbl&gt; | Fairy.Dust &lt;dbl&gt; | Goblin.Toes &lt;dbl&gt; | Witch.s.Brew &lt;dbl&gt; | Griffin.Claw &lt;dbl&gt; | Troll.Hair &lt;dbl&gt; | Kraken.Ink &lt;dbl&gt; | Minotaur.Horn &lt;dbl&gt; | Basilisk.Scale &lt;dbl&gt; | Chimera.Fang &lt;dbl&gt; | Cured &lt;fct&gt; |\n|---|---|---|---|---|---|---|---|---|---|---|---|---|---|---|\n| 503 | 19.8 | 17.5 | 14.0 | 10.8 | 30.5 | 14.7 | 13.8 | 36.7 | 15.7 |  5.7 |  9.7 |  4.1 |  1.8 | 1 |\n| 2035 |  6.4 |  8.4 |  7.6 | 24.0 | 11.1 |  8.2 | 19.2 | 22.7 |  7.3 | 21.6 | 12.5 | 28.0 | 14.3 | 0 |\n| 470 | 16.3 |  5.6 | 25.8 | 12.9 | 13.8 |  5.0 |  7.8 | 19.9 | 11.2 | 13.5 | 20.0 | 27.4 | 19.0 | 0 |\n| 1990 | 26.7 |  6.2 | 18.1 |  5.8 | 12.4 |  5.4 |  1.7 | 15.4 | 26.1 | 30.8 | 17.2 | 12.3 | 35.8 | 1 |\n| 1540 |  5.5 | 21.9 | 21.0 | 13.0 |  7.2 | 10.4 |  2.3 | 14.8 |  2.1 | 18.4 |  9.9 |  8.4 | 25.6 | 0 |\n| 823 | 15.7 |  8.1 |  7.0 | 13.2 | 24.4 | 19.4 | 19.5 | 17.7 | 15.1 | 15.0 | 13.0 |  7.4 | 30.6 | 1 |\n\n",
            "text/latex": "A data.frame: 6 × 14\n\\begin{tabular}{r|llllllllllllll}\n  & Phoenix.Feather & Unicorn.Horn & Dragon.s.Blood & Mermaid.Tears & Fairy.Dust & Goblin.Toes & Witch.s.Brew & Griffin.Claw & Troll.Hair & Kraken.Ink & Minotaur.Horn & Basilisk.Scale & Chimera.Fang & Cured\\\\\n  & <dbl> & <dbl> & <dbl> & <dbl> & <dbl> & <dbl> & <dbl> & <dbl> & <dbl> & <dbl> & <dbl> & <dbl> & <dbl> & <fct>\\\\\n\\hline\n\t503 & 19.8 & 17.5 & 14.0 & 10.8 & 30.5 & 14.7 & 13.8 & 36.7 & 15.7 &  5.7 &  9.7 &  4.1 &  1.8 & 1\\\\\n\t2035 &  6.4 &  8.4 &  7.6 & 24.0 & 11.1 &  8.2 & 19.2 & 22.7 &  7.3 & 21.6 & 12.5 & 28.0 & 14.3 & 0\\\\\n\t470 & 16.3 &  5.6 & 25.8 & 12.9 & 13.8 &  5.0 &  7.8 & 19.9 & 11.2 & 13.5 & 20.0 & 27.4 & 19.0 & 0\\\\\n\t1990 & 26.7 &  6.2 & 18.1 &  5.8 & 12.4 &  5.4 &  1.7 & 15.4 & 26.1 & 30.8 & 17.2 & 12.3 & 35.8 & 1\\\\\n\t1540 &  5.5 & 21.9 & 21.0 & 13.0 &  7.2 & 10.4 &  2.3 & 14.8 &  2.1 & 18.4 &  9.9 &  8.4 & 25.6 & 0\\\\\n\t823 & 15.7 &  8.1 &  7.0 & 13.2 & 24.4 & 19.4 & 19.5 & 17.7 & 15.1 & 15.0 & 13.0 &  7.4 & 30.6 & 1\\\\\n\\end{tabular}\n",
            "text/plain": [
              "     Phoenix.Feather Unicorn.Horn Dragon.s.Blood Mermaid.Tears Fairy.Dust\n",
              "503  19.8            17.5         14.0           10.8          30.5      \n",
              "2035  6.4             8.4          7.6           24.0          11.1      \n",
              "470  16.3             5.6         25.8           12.9          13.8      \n",
              "1990 26.7             6.2         18.1            5.8          12.4      \n",
              "1540  5.5            21.9         21.0           13.0           7.2      \n",
              "823  15.7             8.1          7.0           13.2          24.4      \n",
              "     Goblin.Toes Witch.s.Brew Griffin.Claw Troll.Hair Kraken.Ink Minotaur.Horn\n",
              "503  14.7        13.8         36.7         15.7        5.7        9.7         \n",
              "2035  8.2        19.2         22.7          7.3       21.6       12.5         \n",
              "470   5.0         7.8         19.9         11.2       13.5       20.0         \n",
              "1990  5.4         1.7         15.4         26.1       30.8       17.2         \n",
              "1540 10.4         2.3         14.8          2.1       18.4        9.9         \n",
              "823  19.4        19.5         17.7         15.1       15.0       13.0         \n",
              "     Basilisk.Scale Chimera.Fang Cured\n",
              "503   4.1            1.8         1    \n",
              "2035 28.0           14.3         0    \n",
              "470  27.4           19.0         0    \n",
              "1990 12.3           35.8         1    \n",
              "1540  8.4           25.6         0    \n",
              "823   7.4           30.6         1    "
            ]
          },
          "metadata": {}
        }
      ]
    },
    {
      "cell_type": "code",
      "source": [
        "AciertoSVM"
      ],
      "metadata": {
        "colab": {
          "base_uri": "https://localhost:8080/",
          "height": 191
        },
        "id": "mfBIMtLU2UAo",
        "outputId": "d49f823e-f476-45a0-cbc6-a08f244f9575"
      },
      "execution_count": null,
      "outputs": [
        {
          "output_type": "display_data",
          "data": {
            "text/html": [
              "<style>\n",
              ".list-inline {list-style: none; margin:0; padding: 0}\n",
              ".list-inline>li {display: inline-block}\n",
              ".list-inline>li:not(:last-child)::after {content: \"\\00b7\"; padding: 0 .5ex}\n",
              "</style>\n",
              "<ol class=list-inline><li>0.944444444444444</li><li>0.951566951566952</li><li>0.945868945868946</li><li>0.947293447293447</li><li>0.951566951566952</li><li>0.948717948717949</li><li>0.955840455840456</li><li>0.961538461538462</li><li>0.944444444444444</li><li>0.968660968660969</li><li>0.947293447293447</li><li>0.948717948717949</li><li>0.948717948717949</li><li>0.955840455840456</li><li>0.954415954415954</li><li>0.957264957264957</li><li>0.955840455840456</li><li>0.961538461538462</li><li>0.948717948717949</li><li>0.96011396011396</li><li>0.944444444444444</li><li>0.955840455840456</li><li>0.935897435897436</li><li>0.952991452991453</li><li>0.951566951566952</li><li>0.95014245014245</li><li>0.954415954415954</li><li>0.935897435897436</li><li>0.951566951566952</li><li>0.955840455840456</li><li>0.952991452991453</li><li>0.951566951566952</li><li>0.95014245014245</li><li>0.958689458689459</li><li>0.937321937321937</li><li>0.957264957264957</li><li>0.955840455840456</li><li>0.964387464387464</li><li>0.954415954415954</li><li>0.96011396011396</li><li>0.944444444444444</li><li>0.952991452991453</li><li>0.951566951566952</li><li>0.958689458689459</li><li>0.955840455840456</li><li>0.955840455840456</li><li>0.955840455840456</li><li>0.96011396011396</li><li>0.95014245014245</li><li>0.96011396011396</li><li>0.951566951566952</li><li>0.958689458689459</li><li>0.967236467236467</li><li>0.965811965811966</li><li>0.962962962962963</li><li>0.957264957264957</li><li>0.952991452991453</li><li>0.96011396011396</li><li>0.954415954415954</li><li>0.954415954415954</li><li>0.945868945868946</li><li>0.945868945868946</li><li>0.954415954415954</li><li>0.964387464387464</li><li>0.948717948717949</li><li>0.954415954415954</li><li>0.947293447293447</li><li>0.97008547008547</li><li>0.935897435897436</li><li>0.951566951566952</li><li>0.952991452991453</li><li>0.945868945868946</li><li>0.938746438746439</li><li>0.948717948717949</li><li>0.958689458689459</li><li>0.961538461538462</li><li>0.962962962962963</li><li>0.955840455840456</li><li>0.941595441595442</li><li>0.962962962962963</li><li>0.962962962962963</li><li>0.947293447293447</li><li>0.945868945868946</li><li>0.955840455840456</li><li>0.957264957264957</li><li>0.954415954415954</li><li>0.95014245014245</li><li>0.967236467236467</li><li>0.951566951566952</li><li>0.951566951566952</li><li>0.957264957264957</li><li>0.955840455840456</li><li>0.941595441595442</li><li>0.948717948717949</li><li>0.95014245014245</li><li>0.945868945868946</li><li>0.958689458689459</li><li>0.958689458689459</li><li>0.952991452991453</li><li>0.947293447293447</li></ol>\n"
            ],
            "text/markdown": "1. 0.944444444444444\n2. 0.951566951566952\n3. 0.945868945868946\n4. 0.947293447293447\n5. 0.951566951566952\n6. 0.948717948717949\n7. 0.955840455840456\n8. 0.961538461538462\n9. 0.944444444444444\n10. 0.968660968660969\n11. 0.947293447293447\n12. 0.948717948717949\n13. 0.948717948717949\n14. 0.955840455840456\n15. 0.954415954415954\n16. 0.957264957264957\n17. 0.955840455840456\n18. 0.961538461538462\n19. 0.948717948717949\n20. 0.96011396011396\n21. 0.944444444444444\n22. 0.955840455840456\n23. 0.935897435897436\n24. 0.952991452991453\n25. 0.951566951566952\n26. 0.95014245014245\n27. 0.954415954415954\n28. 0.935897435897436\n29. 0.951566951566952\n30. 0.955840455840456\n31. 0.952991452991453\n32. 0.951566951566952\n33. 0.95014245014245\n34. 0.958689458689459\n35. 0.937321937321937\n36. 0.957264957264957\n37. 0.955840455840456\n38. 0.964387464387464\n39. 0.954415954415954\n40. 0.96011396011396\n41. 0.944444444444444\n42. 0.952991452991453\n43. 0.951566951566952\n44. 0.958689458689459\n45. 0.955840455840456\n46. 0.955840455840456\n47. 0.955840455840456\n48. 0.96011396011396\n49. 0.95014245014245\n50. 0.96011396011396\n51. 0.951566951566952\n52. 0.958689458689459\n53. 0.967236467236467\n54. 0.965811965811966\n55. 0.962962962962963\n56. 0.957264957264957\n57. 0.952991452991453\n58. 0.96011396011396\n59. 0.954415954415954\n60. 0.954415954415954\n61. 0.945868945868946\n62. 0.945868945868946\n63. 0.954415954415954\n64. 0.964387464387464\n65. 0.948717948717949\n66. 0.954415954415954\n67. 0.947293447293447\n68. 0.97008547008547\n69. 0.935897435897436\n70. 0.951566951566952\n71. 0.952991452991453\n72. 0.945868945868946\n73. 0.938746438746439\n74. 0.948717948717949\n75. 0.958689458689459\n76. 0.961538461538462\n77. 0.962962962962963\n78. 0.955840455840456\n79. 0.941595441595442\n80. 0.962962962962963\n81. 0.962962962962963\n82. 0.947293447293447\n83. 0.945868945868946\n84. 0.955840455840456\n85. 0.957264957264957\n86. 0.954415954415954\n87. 0.95014245014245\n88. 0.967236467236467\n89. 0.951566951566952\n90. 0.951566951566952\n91. 0.957264957264957\n92. 0.955840455840456\n93. 0.941595441595442\n94. 0.948717948717949\n95. 0.95014245014245\n96. 0.945868945868946\n97. 0.958689458689459\n98. 0.958689458689459\n99. 0.952991452991453\n100. 0.947293447293447\n\n\n",
            "text/latex": "\\begin{enumerate*}\n\\item 0.944444444444444\n\\item 0.951566951566952\n\\item 0.945868945868946\n\\item 0.947293447293447\n\\item 0.951566951566952\n\\item 0.948717948717949\n\\item 0.955840455840456\n\\item 0.961538461538462\n\\item 0.944444444444444\n\\item 0.968660968660969\n\\item 0.947293447293447\n\\item 0.948717948717949\n\\item 0.948717948717949\n\\item 0.955840455840456\n\\item 0.954415954415954\n\\item 0.957264957264957\n\\item 0.955840455840456\n\\item 0.961538461538462\n\\item 0.948717948717949\n\\item 0.96011396011396\n\\item 0.944444444444444\n\\item 0.955840455840456\n\\item 0.935897435897436\n\\item 0.952991452991453\n\\item 0.951566951566952\n\\item 0.95014245014245\n\\item 0.954415954415954\n\\item 0.935897435897436\n\\item 0.951566951566952\n\\item 0.955840455840456\n\\item 0.952991452991453\n\\item 0.951566951566952\n\\item 0.95014245014245\n\\item 0.958689458689459\n\\item 0.937321937321937\n\\item 0.957264957264957\n\\item 0.955840455840456\n\\item 0.964387464387464\n\\item 0.954415954415954\n\\item 0.96011396011396\n\\item 0.944444444444444\n\\item 0.952991452991453\n\\item 0.951566951566952\n\\item 0.958689458689459\n\\item 0.955840455840456\n\\item 0.955840455840456\n\\item 0.955840455840456\n\\item 0.96011396011396\n\\item 0.95014245014245\n\\item 0.96011396011396\n\\item 0.951566951566952\n\\item 0.958689458689459\n\\item 0.967236467236467\n\\item 0.965811965811966\n\\item 0.962962962962963\n\\item 0.957264957264957\n\\item 0.952991452991453\n\\item 0.96011396011396\n\\item 0.954415954415954\n\\item 0.954415954415954\n\\item 0.945868945868946\n\\item 0.945868945868946\n\\item 0.954415954415954\n\\item 0.964387464387464\n\\item 0.948717948717949\n\\item 0.954415954415954\n\\item 0.947293447293447\n\\item 0.97008547008547\n\\item 0.935897435897436\n\\item 0.951566951566952\n\\item 0.952991452991453\n\\item 0.945868945868946\n\\item 0.938746438746439\n\\item 0.948717948717949\n\\item 0.958689458689459\n\\item 0.961538461538462\n\\item 0.962962962962963\n\\item 0.955840455840456\n\\item 0.941595441595442\n\\item 0.962962962962963\n\\item 0.962962962962963\n\\item 0.947293447293447\n\\item 0.945868945868946\n\\item 0.955840455840456\n\\item 0.957264957264957\n\\item 0.954415954415954\n\\item 0.95014245014245\n\\item 0.967236467236467\n\\item 0.951566951566952\n\\item 0.951566951566952\n\\item 0.957264957264957\n\\item 0.955840455840456\n\\item 0.941595441595442\n\\item 0.948717948717949\n\\item 0.95014245014245\n\\item 0.945868945868946\n\\item 0.958689458689459\n\\item 0.958689458689459\n\\item 0.952991452991453\n\\item 0.947293447293447\n\\end{enumerate*}\n",
            "text/plain": [
              "  [1] 0.9444444 0.9515670 0.9458689 0.9472934 0.9515670 0.9487179 0.9558405\n",
              "  [8] 0.9615385 0.9444444 0.9686610 0.9472934 0.9487179 0.9487179 0.9558405\n",
              " [15] 0.9544160 0.9572650 0.9558405 0.9615385 0.9487179 0.9601140 0.9444444\n",
              " [22] 0.9558405 0.9358974 0.9529915 0.9515670 0.9501425 0.9544160 0.9358974\n",
              " [29] 0.9515670 0.9558405 0.9529915 0.9515670 0.9501425 0.9586895 0.9373219\n",
              " [36] 0.9572650 0.9558405 0.9643875 0.9544160 0.9601140 0.9444444 0.9529915\n",
              " [43] 0.9515670 0.9586895 0.9558405 0.9558405 0.9558405 0.9601140 0.9501425\n",
              " [50] 0.9601140 0.9515670 0.9586895 0.9672365 0.9658120 0.9629630 0.9572650\n",
              " [57] 0.9529915 0.9601140 0.9544160 0.9544160 0.9458689 0.9458689 0.9544160\n",
              " [64] 0.9643875 0.9487179 0.9544160 0.9472934 0.9700855 0.9358974 0.9515670\n",
              " [71] 0.9529915 0.9458689 0.9387464 0.9487179 0.9586895 0.9615385 0.9629630\n",
              " [78] 0.9558405 0.9415954 0.9629630 0.9629630 0.9472934 0.9458689 0.9558405\n",
              " [85] 0.9572650 0.9544160 0.9501425 0.9672365 0.9515670 0.9515670 0.9572650\n",
              " [92] 0.9558405 0.9415954 0.9487179 0.9501425 0.9458689 0.9586895 0.9586895\n",
              " [99] 0.9529915 0.9472934"
            ]
          },
          "metadata": {}
        }
      ]
    },
    {
      "cell_type": "code",
      "source": [
        "mean(AciertoSVM)"
      ],
      "metadata": {
        "colab": {
          "base_uri": "https://localhost:8080/",
          "height": 34
        },
        "id": "r1JEjJxC2Q88",
        "outputId": "6363e5f2-8133-4c9e-e298-e2d3043ece09"
      },
      "execution_count": null,
      "outputs": [
        {
          "output_type": "display_data",
          "data": {
            "text/html": [
              "0.953304843304843"
            ],
            "text/markdown": "0.953304843304843",
            "text/latex": "0.953304843304843",
            "text/plain": [
              "[1] 0.9533048"
            ]
          },
          "metadata": {}
        }
      ]
    },
    {
      "cell_type": "code",
      "source": [
        "ErroresSVM"
      ],
      "metadata": {
        "colab": {
          "base_uri": "https://localhost:8080/",
          "height": 191
        },
        "id": "4dcgwlyV2VGI",
        "outputId": "aeb1479f-1916-4bef-b8e4-cbc9cede83da"
      },
      "execution_count": null,
      "outputs": [
        {
          "output_type": "display_data",
          "data": {
            "text/html": [
              "<style>\n",
              ".list-inline {list-style: none; margin:0; padding: 0}\n",
              ".list-inline>li {display: inline-block}\n",
              ".list-inline>li:not(:last-child)::after {content: \"\\00b7\"; padding: 0 .5ex}\n",
              "</style>\n",
              "<ol class=list-inline><li>0.0555555555555556</li><li>0.0484330484330484</li><li>0.0541310541310541</li><li>0.0527065527065527</li><li>0.0484330484330484</li><li>0.0512820512820513</li><li>0.0441595441595442</li><li>0.0384615384615385</li><li>0.0555555555555556</li><li>0.0313390313390313</li><li>0.0527065527065527</li><li>0.0512820512820513</li><li>0.0512820512820513</li><li>0.0441595441595442</li><li>0.0455840455840456</li><li>0.0427350427350427</li><li>0.0441595441595442</li><li>0.0384615384615385</li><li>0.0512820512820513</li><li>0.0398860398860399</li><li>0.0555555555555556</li><li>0.0441595441595442</li><li>0.0641025641025641</li><li>0.047008547008547</li><li>0.0484330484330484</li><li>0.0498575498575499</li><li>0.0455840455840456</li><li>0.0641025641025641</li><li>0.0484330484330484</li><li>0.0441595441595442</li><li>0.047008547008547</li><li>0.0484330484330484</li><li>0.0498575498575499</li><li>0.0413105413105413</li><li>0.0626780626780627</li><li>0.0427350427350427</li><li>0.0441595441595442</li><li>0.0356125356125356</li><li>0.0455840455840456</li><li>0.0398860398860399</li><li>0.0555555555555556</li><li>0.047008547008547</li><li>0.0484330484330484</li><li>0.0413105413105413</li><li>0.0441595441595442</li><li>0.0441595441595442</li><li>0.0441595441595442</li><li>0.0398860398860399</li><li>0.0498575498575499</li><li>0.0398860398860399</li><li>0.0484330484330484</li><li>0.0413105413105413</li><li>0.0327635327635328</li><li>0.0341880341880342</li><li>0.037037037037037</li><li>0.0427350427350427</li><li>0.047008547008547</li><li>0.0398860398860399</li><li>0.0455840455840456</li><li>0.0455840455840456</li><li>0.0541310541310541</li><li>0.0541310541310541</li><li>0.0455840455840456</li><li>0.0356125356125356</li><li>0.0512820512820513</li><li>0.0455840455840456</li><li>0.0527065527065527</li><li>0.0299145299145299</li><li>0.0641025641025641</li><li>0.0484330484330484</li><li>0.047008547008547</li><li>0.0541310541310541</li><li>0.0612535612535613</li><li>0.0512820512820513</li><li>0.0413105413105413</li><li>0.0384615384615385</li><li>0.037037037037037</li><li>0.0441595441595442</li><li>0.0584045584045584</li><li>0.037037037037037</li><li>0.037037037037037</li><li>0.0527065527065527</li><li>0.0541310541310541</li><li>0.0441595441595442</li><li>0.0427350427350427</li><li>0.0455840455840456</li><li>0.0498575498575499</li><li>0.0327635327635328</li><li>0.0484330484330484</li><li>0.0484330484330484</li><li>0.0427350427350427</li><li>0.0441595441595442</li><li>0.0584045584045584</li><li>0.0512820512820513</li><li>0.0498575498575499</li><li>0.0541310541310541</li><li>0.0413105413105413</li><li>0.0413105413105413</li><li>0.047008547008547</li><li>0.0527065527065527</li></ol>\n"
            ],
            "text/markdown": "1. 0.0555555555555556\n2. 0.0484330484330484\n3. 0.0541310541310541\n4. 0.0527065527065527\n5. 0.0484330484330484\n6. 0.0512820512820513\n7. 0.0441595441595442\n8. 0.0384615384615385\n9. 0.0555555555555556\n10. 0.0313390313390313\n11. 0.0527065527065527\n12. 0.0512820512820513\n13. 0.0512820512820513\n14. 0.0441595441595442\n15. 0.0455840455840456\n16. 0.0427350427350427\n17. 0.0441595441595442\n18. 0.0384615384615385\n19. 0.0512820512820513\n20. 0.0398860398860399\n21. 0.0555555555555556\n22. 0.0441595441595442\n23. 0.0641025641025641\n24. 0.047008547008547\n25. 0.0484330484330484\n26. 0.0498575498575499\n27. 0.0455840455840456\n28. 0.0641025641025641\n29. 0.0484330484330484\n30. 0.0441595441595442\n31. 0.047008547008547\n32. 0.0484330484330484\n33. 0.0498575498575499\n34. 0.0413105413105413\n35. 0.0626780626780627\n36. 0.0427350427350427\n37. 0.0441595441595442\n38. 0.0356125356125356\n39. 0.0455840455840456\n40. 0.0398860398860399\n41. 0.0555555555555556\n42. 0.047008547008547\n43. 0.0484330484330484\n44. 0.0413105413105413\n45. 0.0441595441595442\n46. 0.0441595441595442\n47. 0.0441595441595442\n48. 0.0398860398860399\n49. 0.0498575498575499\n50. 0.0398860398860399\n51. 0.0484330484330484\n52. 0.0413105413105413\n53. 0.0327635327635328\n54. 0.0341880341880342\n55. 0.037037037037037\n56. 0.0427350427350427\n57. 0.047008547008547\n58. 0.0398860398860399\n59. 0.0455840455840456\n60. 0.0455840455840456\n61. 0.0541310541310541\n62. 0.0541310541310541\n63. 0.0455840455840456\n64. 0.0356125356125356\n65. 0.0512820512820513\n66. 0.0455840455840456\n67. 0.0527065527065527\n68. 0.0299145299145299\n69. 0.0641025641025641\n70. 0.0484330484330484\n71. 0.047008547008547\n72. 0.0541310541310541\n73. 0.0612535612535613\n74. 0.0512820512820513\n75. 0.0413105413105413\n76. 0.0384615384615385\n77. 0.037037037037037\n78. 0.0441595441595442\n79. 0.0584045584045584\n80. 0.037037037037037\n81. 0.037037037037037\n82. 0.0527065527065527\n83. 0.0541310541310541\n84. 0.0441595441595442\n85. 0.0427350427350427\n86. 0.0455840455840456\n87. 0.0498575498575499\n88. 0.0327635327635328\n89. 0.0484330484330484\n90. 0.0484330484330484\n91. 0.0427350427350427\n92. 0.0441595441595442\n93. 0.0584045584045584\n94. 0.0512820512820513\n95. 0.0498575498575499\n96. 0.0541310541310541\n97. 0.0413105413105413\n98. 0.0413105413105413\n99. 0.047008547008547\n100. 0.0527065527065527\n\n\n",
            "text/latex": "\\begin{enumerate*}\n\\item 0.0555555555555556\n\\item 0.0484330484330484\n\\item 0.0541310541310541\n\\item 0.0527065527065527\n\\item 0.0484330484330484\n\\item 0.0512820512820513\n\\item 0.0441595441595442\n\\item 0.0384615384615385\n\\item 0.0555555555555556\n\\item 0.0313390313390313\n\\item 0.0527065527065527\n\\item 0.0512820512820513\n\\item 0.0512820512820513\n\\item 0.0441595441595442\n\\item 0.0455840455840456\n\\item 0.0427350427350427\n\\item 0.0441595441595442\n\\item 0.0384615384615385\n\\item 0.0512820512820513\n\\item 0.0398860398860399\n\\item 0.0555555555555556\n\\item 0.0441595441595442\n\\item 0.0641025641025641\n\\item 0.047008547008547\n\\item 0.0484330484330484\n\\item 0.0498575498575499\n\\item 0.0455840455840456\n\\item 0.0641025641025641\n\\item 0.0484330484330484\n\\item 0.0441595441595442\n\\item 0.047008547008547\n\\item 0.0484330484330484\n\\item 0.0498575498575499\n\\item 0.0413105413105413\n\\item 0.0626780626780627\n\\item 0.0427350427350427\n\\item 0.0441595441595442\n\\item 0.0356125356125356\n\\item 0.0455840455840456\n\\item 0.0398860398860399\n\\item 0.0555555555555556\n\\item 0.047008547008547\n\\item 0.0484330484330484\n\\item 0.0413105413105413\n\\item 0.0441595441595442\n\\item 0.0441595441595442\n\\item 0.0441595441595442\n\\item 0.0398860398860399\n\\item 0.0498575498575499\n\\item 0.0398860398860399\n\\item 0.0484330484330484\n\\item 0.0413105413105413\n\\item 0.0327635327635328\n\\item 0.0341880341880342\n\\item 0.037037037037037\n\\item 0.0427350427350427\n\\item 0.047008547008547\n\\item 0.0398860398860399\n\\item 0.0455840455840456\n\\item 0.0455840455840456\n\\item 0.0541310541310541\n\\item 0.0541310541310541\n\\item 0.0455840455840456\n\\item 0.0356125356125356\n\\item 0.0512820512820513\n\\item 0.0455840455840456\n\\item 0.0527065527065527\n\\item 0.0299145299145299\n\\item 0.0641025641025641\n\\item 0.0484330484330484\n\\item 0.047008547008547\n\\item 0.0541310541310541\n\\item 0.0612535612535613\n\\item 0.0512820512820513\n\\item 0.0413105413105413\n\\item 0.0384615384615385\n\\item 0.037037037037037\n\\item 0.0441595441595442\n\\item 0.0584045584045584\n\\item 0.037037037037037\n\\item 0.037037037037037\n\\item 0.0527065527065527\n\\item 0.0541310541310541\n\\item 0.0441595441595442\n\\item 0.0427350427350427\n\\item 0.0455840455840456\n\\item 0.0498575498575499\n\\item 0.0327635327635328\n\\item 0.0484330484330484\n\\item 0.0484330484330484\n\\item 0.0427350427350427\n\\item 0.0441595441595442\n\\item 0.0584045584045584\n\\item 0.0512820512820513\n\\item 0.0498575498575499\n\\item 0.0541310541310541\n\\item 0.0413105413105413\n\\item 0.0413105413105413\n\\item 0.047008547008547\n\\item 0.0527065527065527\n\\end{enumerate*}\n",
            "text/plain": [
              "  [1] 0.05555556 0.04843305 0.05413105 0.05270655 0.04843305 0.05128205\n",
              "  [7] 0.04415954 0.03846154 0.05555556 0.03133903 0.05270655 0.05128205\n",
              " [13] 0.05128205 0.04415954 0.04558405 0.04273504 0.04415954 0.03846154\n",
              " [19] 0.05128205 0.03988604 0.05555556 0.04415954 0.06410256 0.04700855\n",
              " [25] 0.04843305 0.04985755 0.04558405 0.06410256 0.04843305 0.04415954\n",
              " [31] 0.04700855 0.04843305 0.04985755 0.04131054 0.06267806 0.04273504\n",
              " [37] 0.04415954 0.03561254 0.04558405 0.03988604 0.05555556 0.04700855\n",
              " [43] 0.04843305 0.04131054 0.04415954 0.04415954 0.04415954 0.03988604\n",
              " [49] 0.04985755 0.03988604 0.04843305 0.04131054 0.03276353 0.03418803\n",
              " [55] 0.03703704 0.04273504 0.04700855 0.03988604 0.04558405 0.04558405\n",
              " [61] 0.05413105 0.05413105 0.04558405 0.03561254 0.05128205 0.04558405\n",
              " [67] 0.05270655 0.02991453 0.06410256 0.04843305 0.04700855 0.05413105\n",
              " [73] 0.06125356 0.05128205 0.04131054 0.03846154 0.03703704 0.04415954\n",
              " [79] 0.05840456 0.03703704 0.03703704 0.05270655 0.05413105 0.04415954\n",
              " [85] 0.04273504 0.04558405 0.04985755 0.03276353 0.04843305 0.04843305\n",
              " [91] 0.04273504 0.04415954 0.05840456 0.05128205 0.04985755 0.05413105\n",
              " [97] 0.04131054 0.04131054 0.04700855 0.05270655"
            ]
          },
          "metadata": {}
        }
      ]
    },
    {
      "cell_type": "code",
      "source": [
        "mean(ErroresSVM)"
      ],
      "metadata": {
        "colab": {
          "base_uri": "https://localhost:8080/",
          "height": 34
        },
        "id": "LEcDYFcY2XG-",
        "outputId": "18f5cf0d-a5cb-41b3-aab9-397e55988722"
      },
      "execution_count": null,
      "outputs": [
        {
          "output_type": "display_data",
          "data": {
            "text/html": [
              "0.0466951566951567"
            ],
            "text/markdown": "0.0466951566951567",
            "text/latex": "0.0466951566951567",
            "text/plain": [
              "[1] 0.04669516"
            ]
          },
          "metadata": {}
        }
      ]
    },
    {
      "cell_type": "markdown",
      "source": [
        "Por ultimo realizamos el **RN** (redes neuronales)"
      ],
      "metadata": {
        "id": "hkEivOur2N6k"
      }
    },
    {
      "cell_type": "code",
      "source": [
        "# Instalar las bibliotecas necesarias\n",
        "install.packages('neuralnet')\n",
        "install.packages('NeuralNetTools')\n",
        "install.packages('ggplot2')\n",
        "install.packages('gridExtra')\n",
        "\n",
        "# Cargar bibliotecas\n",
        "library(neuralnet)\n",
        "library(NeuralNetTools)\n",
        "library(ggplot2)\n",
        "library(gridExtra)"
      ],
      "metadata": {
        "colab": {
          "base_uri": "https://localhost:8080/"
        },
        "id": "auPVc17h3xos",
        "outputId": "98a9ebfa-7750-45ad-e78f-4d33978f0ec3"
      },
      "execution_count": null,
      "outputs": [
        {
          "output_type": "stream",
          "name": "stderr",
          "text": [
            "Installing package into ‘/usr/local/lib/R/site-library’\n",
            "(as ‘lib’ is unspecified)\n",
            "\n",
            "Installing package into ‘/usr/local/lib/R/site-library’\n",
            "(as ‘lib’ is unspecified)\n",
            "\n",
            "Installing package into ‘/usr/local/lib/R/site-library’\n",
            "(as ‘lib’ is unspecified)\n",
            "\n",
            "Installing package into ‘/usr/local/lib/R/site-library’\n",
            "(as ‘lib’ is unspecified)\n",
            "\n"
          ]
        }
      ]
    },
    {
      "cell_type": "code",
      "source": [
        "# Dividir los datos en conjuntos de entrenamiento y prueba\n",
        "set.seed(123)\n",
        "indices <- sample(1:nrow(princess_df), 0.7 * nrow(princess_df)) #Aplicamos esto para poder usar segun la long del dataset princess_df\n",
        "dataset_train_RNA <- princess_df[indices, ] #Lo mismo por aca\n",
        "dataset_test <- princess_df[-indices, ]\n",
        "\n",
        "# Convertir la variable de respuesta a factor\n",
        "dataset_train_RNA$Cured <- as.factor(dataset_train_RNA$Cured)\n",
        "dataset_test$Cured <- as.factor(dataset_test$Cured)\n",
        "\n",
        "# Entrenar la red neuronal 10 veces con Back Propagation\n",
        "red <- neuralnet(\n",
        "  Cured ~ Phoenix.Feather + Unicorn.Horn + Dragon.s.Blood + Mermaid.Tears + Fairy.Dust +\n",
        "    Goblin.Toes + Witch.s.Brew + Griffin.Claw + Troll.Hair + Kraken.Ink + Minotaur.Horn +\n",
        "    Basilisk.Scale + Chimera.Fang,\n",
        "  dataset_train_RNA,\n",
        "  hidden = c(10),\n",
        "  linear.output = FALSE,\n",
        "  act.fct = \"logistic\",\n",
        "  algorithm = \"backprop\",\n",
        "  threshold = 0.01,\n",
        "  learningrate = 0.001,\n",
        "  rep = 100\n",
        ")\n"
      ],
      "metadata": {
        "id": "vmcjb4zX25Oq"
      },
      "execution_count": null,
      "outputs": []
    },
    {
      "cell_type": "code",
      "source": [
        "# Graficar la mejor configuración\n",
        "plotnet(red, rep = 'best')\n",
        "\n",
        "# Realizar predicciones en el conjunto de prueba\n",
        "pred <- predict(red, dataset_test)\n",
        "predicciones_RNA <- round(pred)\n",
        "\n",
        "# Calcular el error de clasificación\n",
        "ErrorC_RNA <- sum(predicciones_RNA != dataset_test$Cured) / length(dataset_test$Cured)\n",
        "print(ErrorC_RNA)"
      ],
      "metadata": {
        "id": "ThAhE_a73s2Z"
      },
      "execution_count": null,
      "outputs": []
    },
    {
      "cell_type": "code",
      "source": [
        "# Graficar las predicciones\n",
        "predicciones <- cbind(dataset_test[, 1:13], predicciones_RNA)\n",
        "pdf(\"Grafica_predicciones_RNA.pdf\")\n",
        "ggplot(data = as.data.frame(predicciones), aes(x = Phoenix.Feather, y = Unicorn.Horn, color = as.factor(predicciones_RNA))) +\n",
        "  geom_point() +\n",
        "  labs(title = \"Predicciones RNA\", x = \"Phoenix.Feather\", y = \"Unicorn.Horn\") +\n",
        "  scale_color_manual(values = c(\"blue\", \"red\"), name = 'Clase')\n",
        "dev.off()\n",
        "\n",
        "# Graficar conjunto de datos de prueba y predicciones\n",
        "plot_dataset_test <- ggplot(data = dataset_test, aes(x = Phoenix.Feather, y = Unicorn.Horn, color = as.factor(Cured))) +\n",
        "  geom_point() +\n",
        "  labs(title = \"Dataset Test\", x = \"Phoenix.Feather\", y = \"Unicorn.Horn\") +\n",
        "  scale_color_manual(values = c(\"blue\", \"red\"), name = 'Clase')\n",
        "\n",
        "plot_predictions <- ggplot(data = as.data.frame(predicciones), aes(x = Phoenix.Feather, y = Unicorn.Horn, color = as.factor(predicciones_RNA))) +\n",
        "  geom_point() +\n",
        "  labs(title = \"Predicciones\", x = \"Phoenix.Feather\", y = \"Unicorn.Horn\") +\n",
        "  scale_color_manual(values = c(\"blue\", \"red\"), name = 'Clase')\n",
        "\n",
        "# Organizar y mostrar los gráficos\n",
        "grid.arrange(plot_dataset_test, plot_predictions, ncol = 2)"
      ],
      "metadata": {
        "id": "Iex-1vGi3qHZ"
      },
      "execution_count": null,
      "outputs": []
    },
    {
      "cell_type": "markdown",
      "source": [
        "# *TPS ANTERIORES PARA GUIARME*"
      ],
      "metadata": {
        "id": "vqCeNEWIqWSP"
      }
    },
    {
      "cell_type": "markdown",
      "source": [
        "TP2 - Creacion de diagonal\n",
        "\n",
        "\n",
        "\n",
        "```\n",
        "\n",
        "indices<-c(1:800)\n",
        "modelosRF<-list()\n",
        "ErroresCRF<-array()\n",
        "prediccionesRF<-list()\n",
        "\n",
        "for (i in 1:100) {\n",
        "diagonal_test<-diagonal[indice_test[[i]],]\n",
        "diagonal_train<-diagonal[indice_train[[i]],]\n",
        "\n",
        "\n",
        "  library(\"randomForest\")\n",
        "  modelosRF[[i]]<-randomForest(diagonal_train[,-3], as.factor(diagonal_train[,3]),diagonal_test[,-3],as.factor(diagonal_test[,3]), norm.votes=FALSE,ntree=1000)\n",
        "  prediccionesRF[[i]] <- modelosRF[[i]]$test$predicted\n",
        "\n",
        "  # ENTRENAMIENTO\n",
        "\tErroresCRF[i]<-sum(prediccionesRF[[i]] != diagonal_test[,3])/length(diagonal_test[,3])\n",
        "}\n",
        "```\n",
        "\n"
      ],
      "metadata": {
        "id": "_uPTfrBapm2F"
      }
    },
    {
      "cell_type": "markdown",
      "source": [
        "TP3 - SVM\n",
        "\n",
        "\n",
        "```\n",
        "# Especifica el número de veces que deseas ejecutar el script\n",
        "\n",
        "num_ejecuciones <- 100\n",
        "VectorError<-array()\n",
        "VectorAcierto<-array()\n",
        "Listapred<-list()\n",
        "Listamod<-list()\n",
        "\n",
        "load(\"G:\\\\Mi unidad\\\\FACULTAD\\\\Fundamentos de IA\\\\Diagonal.Rdata\")\n",
        "load(\"G:\\\\Mi unidad\\\\FACULTAD\\\\Fundamentos de IA\\\\Indices_test.Rdata\")\n",
        "load(\"G:\\\\Mi unidad\\\\FACULTAD\\\\Fundamentos de IA\\\\Indices_train.Rdata\")\n",
        "\n",
        "# Inicia un bucle for para ejecutar el script 100 veces\n",
        "\n",
        "for (i in 1:num_ejecuciones) {\n",
        "\n",
        "#CREACION DE INDICES\n",
        "indices<-c(1:800)\n",
        "indice_test1<-sample(c(1:400),200)\n",
        "indice_test0<-sample(c(401:800),200)\n",
        "\n",
        "indice_test<-c(indice_test1,indice_test0)\n",
        "indice_train<-indices[-indice_test]\n",
        "diagonal_test<-diagonal [indice_test,]\n",
        "diagonal_train<-diagonal [indice_train,]\n",
        "dim(diagonal_test)\n",
        "dim(diagonal_train)\n",
        "\n",
        "#ENTRENAMIENTO\n",
        "library(e1071)\n",
        "#DUDA MOD\n",
        "Listamod<-svm(diagonal_train[,-3],diagonal_train[,3],type=\"C\")\n",
        "Listapred<-predict(modelo,diagonal_test[,-3])\n",
        "\n",
        "#CALCULO DE ERROR y ACIERTO\n",
        "VectorError[i]<-sum(Listapred!= diagonal_test [,3])/length(diagonal_test[-3])\n",
        "VectorError[i]\n",
        "VectorAcierto[i]<- 1-ErrorC\n",
        "VectorAcierto[i]\n",
        "\n",
        "\n",
        "cat(\"Ejecución número:\", i, \"\\n\")\n",
        "}\n",
        "save(Listapred,file=\"predicciones.Rdata\")\n",
        "save(VectorError,file=\"erroresC.Rdata\")\n",
        "```\n",
        "\n"
      ],
      "metadata": {
        "id": "Vehtcu9cph-l"
      }
    },
    {
      "cell_type": "markdown",
      "source": [
        "TP4 - RF\n",
        "\n",
        "\n",
        "```\n",
        "load('/content/Diagonal.Rdata')\n",
        "load('/content/Indices_test.Rdata')\n",
        "load('/content/Indices_train.Rdata')\n",
        "load('/content/errorC.Rdata')\n",
        "\n",
        "#Creamos las estructuras de datos que vamos a necesitar\n",
        "\n",
        "indices<-c(1:800)\n",
        "modelosRF<-list()\n",
        "ErroresCRF<-array()\n",
        "prediccionesRF<-list()\n",
        "\n",
        "for (i in 1:100){\n",
        "diagonal_test<-diagonal[indices_test[[i]],]\n",
        "diagonal_train<-diagonal[indices_train[[i]],]\n",
        "#hold out 50% para test 50% para train\n",
        "modelosRF[[i]]<-randomForest(diagonal_train[,-3], as.factor(diagonal_train[,3]),diagonal_test[,-3],as.factor(diagonal_test[,3]), norm.votes=FALSE,ntree=1000)\n",
        "prediccionesRF[[i]]<-modelosRF[[i]]$test$predicted\n",
        "#Entrenamiento\n",
        "ErroresCRF[i]<-sum(prediccionesRF[[i]] != diagonal_test[,3])/length(diagonal_test[,3])\n",
        "#calculamos el error\n",
        "}\n",
        "\n",
        "# Agrega estos comandos de impresión para depurar\n",
        "print(dim(diagonal_train))\n",
        "print(dim(diagonal_test))\n",
        "print(head(diagonal_train))\n",
        "print(head(diagonal_test))\n",
        "\n",
        "```\n",
        "\n"
      ],
      "metadata": {
        "id": "J3j1XXZUp3Jh"
      }
    },
    {
      "cell_type": "code",
      "source": [],
      "metadata": {
        "id": "AV-yrKIhqHcf"
      },
      "execution_count": null,
      "outputs": []
    }
  ]
}